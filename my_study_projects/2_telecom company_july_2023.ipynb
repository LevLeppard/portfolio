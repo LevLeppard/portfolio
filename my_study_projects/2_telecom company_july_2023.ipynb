{
 "cells": [
  {
   "cell_type": "markdown",
   "id": "61be727a-3ae7-4e60-a1ad-c84262341f15",
   "metadata": {},
   "source": [
    "# Сборный проект \"Исследования уровня потребительской лояльности пользователей телекоммуникационной компании\""
   ]
  },
  {
   "cell_type": "markdown",
   "id": "44546148-ba94-47fd-a458-bbdf1749d307",
   "metadata": {},
   "source": [
    "# ВВЕДЕНИЕ\n",
    "\n",
    "Заказчик этого исследования — большая телекоммуникационная компания, которая оказывает услуги на территории всего СНГ. Перед компанией стоит задача определить текущий уровень потребительской лояльности, или NPS (от англ. Net Promoter Score), среди клиентов из России. \n",
    "Чтобы определить уровень лояльности, клиентам задавали классический вопрос: «Оцените по шкале от 1 до 10 вероятность того, что вы порекомендуете компанию друзьям и знакомым».\n",
    "Компания провела опрос и попросила вас подготовить дашборд с его итогами. Большую базу данных для такой задачи разворачивать не стали и выгрузили данные в SQLite. "
   ]
  },
  {
   "cell_type": "markdown",
   "id": "bcc3f7f7-8628-4a8f-8d41-f3c2d356f912",
   "metadata": {},
   "source": [
    "## Цели и задачи\n",
    "\n",
    "Цели исследования - ответить на вопросы:\n",
    "\n",
    "- Как распределены участники опроса по возрасту и полу? Каких пользователей больше: новых или старых?\n",
    "- Пользователи из каких городов активнее участвовали в опросе?\n",
    "- Какие группы пользователей наиболее лояльны к сервису? Какие менее?\n",
    "- \n",
    "Какой общий NPS среди всех опрошеннх ?- \n",
    "Как можно описать клиентов, которые относятся к группе cторонников (англ. promotsже):"
   ]
  },
  {
   "cell_type": "markdown",
   "id": "c8cd6a8f-7f5a-4847-8789-5cea9223aadc",
   "metadata": {},
   "source": [
    "## Подготовка данных"
   ]
  },
  {
   "cell_type": "markdown",
   "id": "dc16bc81-87e8-49ad-b93d-8f6e65ce43e9",
   "metadata": {},
   "source": [
    "Импортируем необходимые библиотеки для обработки данных."
   ]
  },
  {
   "cell_type": "code",
   "execution_count": 4,
   "id": "fc7efa54",
   "metadata": {},
   "outputs": [],
   "source": [
    "import os\n",
    "import pandas as pd\n",
    "import numpy as np\n",
    "\n",
    "from sqlalchemy import create_engine"
   ]
  },
  {
   "cell_type": "markdown",
   "id": "d1ba5c70-e732-4312-bb33-8cb6ef81ac65",
   "metadata": {},
   "source": [
    "Подготовим необходимые запросы и выгрузим целевой датасет. "
   ]
  },
  {
   "cell_type": "code",
   "execution_count": 8,
   "id": "0017f8e7",
   "metadata": {},
   "outputs": [],
   "source": [
    "path_to_db_local = 'telecomm_csi.db'\n",
    "path_to_db_platform = 'C:/Users/sutul/datasets/telecomm_csi.db'\n",
    "path_to_db = None\n",
    "\n",
    "if os.path.exists(path_to_db_local):\n",
    "    path_to_db = path_to_db_local\n",
    "elif os.path.exists(path_to_db_platform):\n",
    "    path_to_db = path_to_db_platform\n",
    "else:\n",
    "    raise Exception('Файл с базой данных SQLite не найден!')\n",
    "\n",
    "if path_to_db:\n",
    "    engine = create_engine(f'sqlite:///{path_to_db}', echo=False)"
   ]
  },
  {
   "cell_type": "code",
   "execution_count": 9,
   "id": "84ebad43",
   "metadata": {},
   "outputs": [],
   "source": [
    "query = \"\"\"\n",
    "SELECT u.user_id,\n",
    "        u.lt_day,\n",
    "            CASE\n",
    "                WHEN u.lt_day < 365 THEN 'TRUE'\n",
    "                ELSE 'FALSE'\n",
    "            END is_new,\n",
    "        u.age,\n",
    "            CASE\n",
    "                WHEN u.gender_segment = 1 THEN 'женщина'\n",
    "                WHEN u.gender_segment = 0 THEN 'мужчина'\n",
    "                ELSE 'неизвестно'\n",
    "            END gender_segment,\n",
    "        u.os_name,\n",
    "        u.cpe_type_name,\n",
    "        l.country,\n",
    "        l.city,\n",
    "        ags.title AS age_segment,\n",
    "        ts.title AS traffic_segment,\n",
    "        ls.title AS lifetime_segment,\n",
    "        u.nps_score,\n",
    "            CASE\n",
    "                WHEN u.nps_score <= 6 THEN 'критики'\n",
    "                WHEN u.nps_score >= 9 THEN 'сторонники'\n",
    "                ELSE 'нейтралы'\n",
    "            END nps_group\n",
    "FROM user AS u\n",
    "JOIN location AS l ON u.location_id = l.location_id\n",
    "JOIN age_segment AS ags ON u.age_gr_id = ags.age_gr_id\n",
    "JOIN traffic_segment AS ts ON u.tr_gr_id = ts.tr_gr_id\n",
    "JOIN lifetime_segment AS ls ON u.lt_gr_id = ls.lt_gr_id;\n",
    "\n",
    "\"\"\""
   ]
  },
  {
   "cell_type": "code",
   "execution_count": 10,
   "id": "3965faf2",
   "metadata": {},
   "outputs": [
    {
     "data": {
      "text/html": [
       "<div>\n",
       "<style scoped>\n",
       "    .dataframe tbody tr th:only-of-type {\n",
       "        vertical-align: middle;\n",
       "    }\n",
       "\n",
       "    .dataframe tbody tr th {\n",
       "        vertical-align: top;\n",
       "    }\n",
       "\n",
       "    .dataframe thead th {\n",
       "        text-align: right;\n",
       "    }\n",
       "</style>\n",
       "<table border=\"1\" class=\"dataframe\">\n",
       "  <thead>\n",
       "    <tr style=\"text-align: right;\">\n",
       "      <th></th>\n",
       "      <th>user_id</th>\n",
       "      <th>lt_day</th>\n",
       "      <th>is_new</th>\n",
       "      <th>age</th>\n",
       "      <th>gender_segment</th>\n",
       "      <th>os_name</th>\n",
       "      <th>cpe_type_name</th>\n",
       "      <th>country</th>\n",
       "      <th>city</th>\n",
       "      <th>age_segment</th>\n",
       "      <th>traffic_segment</th>\n",
       "      <th>lifetime_segment</th>\n",
       "      <th>nps_score</th>\n",
       "      <th>nps_group</th>\n",
       "    </tr>\n",
       "  </thead>\n",
       "  <tbody>\n",
       "    <tr>\n",
       "      <th>0</th>\n",
       "      <td>A001A2</td>\n",
       "      <td>2320</td>\n",
       "      <td>FALSE</td>\n",
       "      <td>45.0</td>\n",
       "      <td>женщина</td>\n",
       "      <td>ANDROID</td>\n",
       "      <td>SMARTPHONE</td>\n",
       "      <td>Россия</td>\n",
       "      <td>Уфа</td>\n",
       "      <td>05 45-54</td>\n",
       "      <td>04 1-5</td>\n",
       "      <td>08 36+</td>\n",
       "      <td>10</td>\n",
       "      <td>сторонники</td>\n",
       "    </tr>\n",
       "    <tr>\n",
       "      <th>1</th>\n",
       "      <td>A001WF</td>\n",
       "      <td>2344</td>\n",
       "      <td>FALSE</td>\n",
       "      <td>53.0</td>\n",
       "      <td>мужчина</td>\n",
       "      <td>ANDROID</td>\n",
       "      <td>SMARTPHONE</td>\n",
       "      <td>Россия</td>\n",
       "      <td>Киров</td>\n",
       "      <td>05 45-54</td>\n",
       "      <td>04 1-5</td>\n",
       "      <td>08 36+</td>\n",
       "      <td>10</td>\n",
       "      <td>сторонники</td>\n",
       "    </tr>\n",
       "    <tr>\n",
       "      <th>2</th>\n",
       "      <td>A003Q7</td>\n",
       "      <td>467</td>\n",
       "      <td>FALSE</td>\n",
       "      <td>57.0</td>\n",
       "      <td>мужчина</td>\n",
       "      <td>ANDROID</td>\n",
       "      <td>SMARTPHONE</td>\n",
       "      <td>Россия</td>\n",
       "      <td>Москва</td>\n",
       "      <td>06 55-64</td>\n",
       "      <td>08 20-25</td>\n",
       "      <td>06 13-24</td>\n",
       "      <td>10</td>\n",
       "      <td>сторонники</td>\n",
       "    </tr>\n",
       "  </tbody>\n",
       "</table>\n",
       "</div>"
      ],
      "text/plain": [
       "  user_id  lt_day is_new   age gender_segment  os_name cpe_type_name country  \\\n",
       "0  A001A2    2320  FALSE  45.0        женщина  ANDROID    SMARTPHONE  Россия   \n",
       "1  A001WF    2344  FALSE  53.0        мужчина  ANDROID    SMARTPHONE  Россия   \n",
       "2  A003Q7     467  FALSE  57.0        мужчина  ANDROID    SMARTPHONE  Россия   \n",
       "\n",
       "     city age_segment traffic_segment lifetime_segment  nps_score   nps_group  \n",
       "0     Уфа    05 45-54          04 1-5           08 36+         10  сторонники  \n",
       "1   Киров    05 45-54          04 1-5           08 36+         10  сторонники  \n",
       "2  Москва    06 55-64        08 20-25         06 13-24         10  сторонники  "
      ]
     },
     "execution_count": 10,
     "metadata": {},
     "output_type": "execute_result"
    }
   ],
   "source": [
    "df = pd.read_sql(query, engine)\n",
    "df.head(3)"
   ]
  },
  {
   "cell_type": "code",
   "execution_count": 11,
   "id": "9db04858",
   "metadata": {},
   "outputs": [],
   "source": [
    "df.to_csv('telecomm_csi_tableau.csv', index=False)"
   ]
  },
  {
   "cell_type": "code",
   "execution_count": 12,
   "id": "480880cc",
   "metadata": {},
   "outputs": [
    {
     "name": "stdout",
     "output_type": "stream",
     "text": [
      "<class 'pandas.core.frame.DataFrame'>\n",
      "RangeIndex: 502493 entries, 0 to 502492\n",
      "Data columns (total 14 columns):\n",
      " #   Column            Non-Null Count   Dtype  \n",
      "---  ------            --------------   -----  \n",
      " 0   user_id           502493 non-null  object \n",
      " 1   lt_day            502493 non-null  int64  \n",
      " 2   is_new            502493 non-null  object \n",
      " 3   age               501939 non-null  float64\n",
      " 4   gender_segment    502493 non-null  object \n",
      " 5   os_name           502493 non-null  object \n",
      " 6   cpe_type_name     502493 non-null  object \n",
      " 7   country           502493 non-null  object \n",
      " 8   city              502493 non-null  object \n",
      " 9   age_segment       502493 non-null  object \n",
      " 10  traffic_segment   502493 non-null  object \n",
      " 11  lifetime_segment  502493 non-null  object \n",
      " 12  nps_score         502493 non-null  int64  \n",
      " 13  nps_group         502493 non-null  object \n",
      "dtypes: float64(1), int64(2), object(11)\n",
      "memory usage: 53.7+ MB\n"
     ]
    }
   ],
   "source": [
    "df.info()"
   ]
  },
  {
   "cell_type": "markdown",
   "id": "b266c9cf",
   "metadata": {},
   "source": [
    "# МОЙ ДАШБОРД С ПРЕЗЕНТАЦИЕЙ МОЖНО ПОСМОТРЕТЬ [ЗДЕСЬ](https://public.tableau.com/app/profile/lev.sutulov/viz/NPS_analysis_16877870962290/sheet0?publish=yes)"
   ]
  }
 ],
 "metadata": {
  "ExecuteTimeLog": [
   {
    "duration": 581,
    "start_time": "2023-06-26T12:07:04.657Z"
   },
   {
    "duration": 96,
    "start_time": "2023-06-26T12:07:06.107Z"
   },
   {
    "duration": 3,
    "start_time": "2023-06-26T12:07:07.209Z"
   },
   {
    "duration": 480,
    "start_time": "2023-06-26T12:07:16.387Z"
   },
   {
    "duration": 2,
    "start_time": "2023-06-26T12:09:49.104Z"
   },
   {
    "duration": 431,
    "start_time": "2023-06-26T12:09:51.217Z"
   },
   {
    "duration": 9,
    "start_time": "2023-06-26T12:09:52.491Z"
   },
   {
    "duration": 2,
    "start_time": "2023-06-26T12:12:49.521Z"
   },
   {
    "duration": 4021,
    "start_time": "2023-06-26T12:12:50.699Z"
   },
   {
    "duration": 2798,
    "start_time": "2023-06-26T12:12:59.512Z"
   },
   {
    "duration": 12,
    "start_time": "2023-06-26T12:13:26.217Z"
   },
   {
    "duration": 127,
    "start_time": "2023-06-26T12:13:39.328Z"
   },
   {
    "duration": 3,
    "start_time": "2023-06-26T13:00:32.935Z"
   },
   {
    "duration": 1798,
    "start_time": "2023-06-26T13:00:34.395Z"
   },
   {
    "duration": 3,
    "start_time": "2023-06-26T13:00:49.045Z"
   },
   {
    "duration": 417,
    "start_time": "2023-06-26T13:00:50.092Z"
   },
   {
    "duration": 3,
    "start_time": "2023-06-26T13:00:59.990Z"
   },
   {
    "duration": 464,
    "start_time": "2023-06-26T13:01:01.194Z"
   },
   {
    "duration": 3,
    "start_time": "2023-06-26T13:02:08.243Z"
   },
   {
    "duration": 4907,
    "start_time": "2023-06-26T13:02:08.946Z"
   },
   {
    "duration": 3,
    "start_time": "2023-06-26T13:09:23.005Z"
   },
   {
    "duration": 851,
    "start_time": "2023-06-26T13:09:23.843Z"
   },
   {
    "duration": 6,
    "start_time": "2023-06-26T13:10:04.565Z"
   },
   {
    "duration": 821,
    "start_time": "2023-06-26T13:10:06.944Z"
   },
   {
    "duration": 3,
    "start_time": "2023-06-26T13:11:15.425Z"
   },
   {
    "duration": 5206,
    "start_time": "2023-06-26T13:11:16.298Z"
   },
   {
    "duration": 3,
    "start_time": "2023-06-26T13:15:43.642Z"
   },
   {
    "duration": 5481,
    "start_time": "2023-06-26T13:15:44.205Z"
   },
   {
    "duration": 5637,
    "start_time": "2023-06-26T13:17:10.305Z"
   },
   {
    "duration": 588,
    "start_time": "2023-06-26T13:17:16.827Z"
   },
   {
    "duration": 3,
    "start_time": "2023-06-26T13:20:37.754Z"
   },
   {
    "duration": 5631,
    "start_time": "2023-06-26T13:20:38.804Z"
   },
   {
    "duration": 3,
    "start_time": "2023-06-26T13:21:19.085Z"
   },
   {
    "duration": 5920,
    "start_time": "2023-06-26T13:21:19.743Z"
   },
   {
    "duration": 5711,
    "start_time": "2023-06-26T13:26:23.797Z"
   },
   {
    "duration": 634,
    "start_time": "2023-06-26T13:26:29.510Z"
   },
   {
    "duration": 135,
    "start_time": "2023-06-26T14:04:33.012Z"
   },
   {
    "duration": 715,
    "start_time": "2023-06-27T12:32:04.330Z"
   },
   {
    "duration": 125,
    "start_time": "2023-06-27T12:32:05.048Z"
   },
   {
    "duration": 4,
    "start_time": "2023-06-27T12:32:05.178Z"
   },
   {
    "duration": 6926,
    "start_time": "2023-06-27T12:32:05.185Z"
   },
   {
    "duration": 7923,
    "start_time": "2023-06-27T12:32:12.113Z"
   },
   {
    "duration": 662,
    "start_time": "2023-06-27T12:32:20.039Z"
   },
   {
    "duration": 655,
    "start_time": "2023-06-27T12:32:23.239Z"
   },
   {
    "duration": 131,
    "start_time": "2023-06-27T12:32:25.534Z"
   },
   {
    "duration": 140,
    "start_time": "2023-06-27T12:32:52.325Z"
   },
   {
    "duration": 189,
    "start_time": "2023-06-27T12:33:26.571Z"
   },
   {
    "duration": 567,
    "start_time": "2023-07-01T06:51:43.935Z"
   },
   {
    "duration": 23,
    "start_time": "2023-07-01T06:51:44.504Z"
   },
   {
    "duration": 3,
    "start_time": "2023-07-01T06:51:44.528Z"
   },
   {
    "duration": 5687,
    "start_time": "2023-07-01T06:51:44.532Z"
   },
   {
    "duration": 4617,
    "start_time": "2023-07-01T06:51:50.221Z"
   },
   {
    "duration": 581,
    "start_time": "2023-07-01T06:51:54.840Z"
   },
   {
    "duration": 3416,
    "start_time": "2023-07-01T06:59:36.117Z"
   },
   {
    "duration": 9,
    "start_time": "2023-07-05T07:58:37.680Z"
   },
   {
    "duration": 544,
    "start_time": "2023-07-05T07:58:55.718Z"
   },
   {
    "duration": 122,
    "start_time": "2023-07-05T07:58:56.911Z"
   },
   {
    "duration": 4,
    "start_time": "2023-07-05T07:58:59.347Z"
   },
   {
    "duration": 5980,
    "start_time": "2023-07-05T07:59:02.968Z"
   },
   {
    "duration": 6456,
    "start_time": "2023-07-05T07:59:15.248Z"
   },
   {
    "duration": 606,
    "start_time": "2023-07-05T07:59:23.522Z"
   },
   {
    "duration": 94,
    "start_time": "2023-07-05T07:59:50.895Z"
   },
   {
    "duration": 125,
    "start_time": "2023-07-05T08:00:09.059Z"
   },
   {
    "duration": 3437,
    "start_time": "2023-07-05T08:34:03.243Z"
   },
   {
    "duration": 505,
    "start_time": "2023-07-05T14:29:45.511Z"
   },
   {
    "duration": 93,
    "start_time": "2023-07-05T14:29:46.018Z"
   },
   {
    "duration": 4,
    "start_time": "2023-07-05T14:29:46.113Z"
   },
   {
    "duration": 5804,
    "start_time": "2023-07-05T14:29:46.119Z"
   },
   {
    "duration": 5226,
    "start_time": "2023-07-05T14:29:51.925Z"
   },
   {
    "duration": 568,
    "start_time": "2023-07-05T14:29:57.153Z"
   },
   {
    "duration": 3858,
    "start_time": "2023-07-05T14:29:57.723Z"
   }
  ],
  "kernelspec": {
   "display_name": "Python 3 (ipykernel)",
   "language": "python",
   "name": "python3"
  },
  "language_info": {
   "codemirror_mode": {
    "name": "ipython",
    "version": 3
   },
   "file_extension": ".py",
   "mimetype": "text/x-python",
   "name": "python",
   "nbconvert_exporter": "python",
   "pygments_lexer": "ipython3",
   "version": "3.11.3"
  },
  "toc": {
   "base_numbering": 1,
   "nav_menu": {},
   "number_sections": true,
   "sideBar": true,
   "skip_h1_title": true,
   "title_cell": "Table of Contents",
   "title_sidebar": "Contents",
   "toc_cell": false,
   "toc_position": {},
   "toc_section_display": true,
   "toc_window_display": false
  }
 },
 "nbformat": 4,
 "nbformat_minor": 5
}
