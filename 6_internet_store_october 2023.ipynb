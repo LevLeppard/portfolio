{
 "cells": [
  {
   "cell_type": "markdown",
   "id": "37a7dd63-5fb0-4fb0-b73c-37e06b3529cd",
   "metadata": {},
   "source": [
    "# Приоретизация гипотез, А/В - тестирование и анализ результатов для увеличения выручки интернет-магазина.\n",
    "---"
   ]
  },
  {
   "cell_type": "markdown",
   "id": "1e5ac717-8d0e-48e5-9e1a-b0d16ba2ece5",
   "metadata": {},
   "source": [
    "## Цели и задачи исследования."
   ]
  },
  {
   "cell_type": "markdown",
   "id": "c8b0a8f8-8da1-4255-9f81-c33a272fa574",
   "metadata": {},
   "source": [
    "."
   ]
  },
  {
   "cell_type": "markdown",
   "id": "34fb3360-341a-4d2b-8ed8-29ae8ab277cc",
   "metadata": {},
   "source": [
    "В качестве аналитика крупного интернет-магазина мы подготовили список гипотез для увеличения выручки. Необходимо приоритизировать гипотезы, запустить A/B-тест и проанализировать результаты. \n",
    "\n",
    "Цель проекта:\n",
    "\n",
    "    - провести А/В - тестирование по приоретизированным гипотезам.\n",
    "    - проанализировать результаты А/В - теста(ов), сформулировать рекомендации по увеличению выручки интренет-магазина.\n",
    "\n",
    "Задачи:\n",
    "\n",
    "- провести приоретизацию гипотез;\n",
    "- провести А/В - тест;\n",
    "- проанализировать полученные данные, провести их обработку, при необходимости;\n",
    "- построить визуализации по полученным результатам с разбивкой по группам пользователей;\n",
    "- рассчитать статистическую значимость различий между \"сырыми\" данными и данными после обработки;\n",
    "- сформулировать выводы по результатам проведенной работы."
   ]
  },
  {
   "cell_type": "markdown",
   "id": "aa6cfd3e-2d99-4231-80c9-4d01f9048e7e",
   "metadata": {},
   "source": [
    "**Описание датасетов.**\n",
    "\n",
    "В нашем распоряжении находятся  данные о 9 гипотезах по увеличению выручки интернет-магазина с указанными параметрами Reach, Impact, Confidence, Effort. Датасет 'hypothesis.csv':\n",
    "- Hypothesis — краткое описание гипотезы;\n",
    "- Reach — охват пользователей по 10-балльной шкале;\n",
    "- Impact — влияние на пользователей по 10-балльной шкале;\n",
    "- Confidence — уверенность в гипотезе по 10-балльной шкале;\n",
    "- Efforts — затраты ресурсов на проверку гипотезы по 10-балльной шкале.\n",
    "\n",
    "  Чем больше значение Efforts, тем дороже проверка гипотезы."
   ]
  },
  {
   "cell_type": "markdown",
   "id": "e3e4a66e-ef6d-4d81-bd81-6cc213c2a3d2",
   "metadata": {},
   "source": [
    "Датасет 'orders.csv':\n",
    "- transactionId — идентификатор заказа;\n",
    "- visitorId — идентификатор пользователя, совершившего заказ;\n",
    "- date — дата, когда был совершён заказ;\n",
    "- revenue — выручка заказа;\n",
    "- group — группа A/B-теста, в которую попал заказ.\n",
    "\n",
    "\n",
    "Датасет 'visitors.csv':\n",
    "- date — дата;\n",
    "- group — группа A/B-теста;\n",
    "- visitors — количество пользователей в указанную дату в указанной группе A/B-теста."
   ]
  },
  {
   "cell_type": "markdown",
   "id": "eb39ab3f-bac5-4dfa-b44b-bc1751461135",
   "metadata": {},
   "source": [
    "Импортируем библиотеки, необходимые нам для работы."
   ]
  },
  {
   "cell_type": "code",
   "execution_count": 1,
   "id": "1893bacd-275f-4656-bf5b-c9546459271b",
   "metadata": {},
   "outputs": [],
   "source": [
    "import pandas as pd\n",
    "import re\n",
    "import matplotlib.pyplot as plt\n",
    "import seaborn as sns\n",
    "import datetime\n",
    "from datetime import timedelta\n",
    "import scipy.stats as st\n",
    "import numpy as np\n",
    "import warnings\n",
    "warnings.filterwarnings('ignore')"
   ]
  },
  {
   "cell_type": "markdown",
   "id": "68f3c65f-5bcf-4e26-81cf-a138f146a4ca",
   "metadata": {},
   "source": [
    "## Приоритизация гипотез."
   ]
  },
  {
   "cell_type": "markdown",
   "id": "bbb06e5a-041e-4520-acbc-729580455b95",
   "metadata": {},
   "source": [
    "Загрузим датасет 'hypotesis.csv' и познакомимся с ним."
   ]
  },
  {
   "cell_type": "code",
   "execution_count": 2,
   "id": "da763ea0-ada8-4e00-9883-09a8a58753f9",
   "metadata": {},
   "outputs": [],
   "source": [
    "try:\n",
    "    hypothesis = pd.read_csv('/datasets/hypothesis.csv')\n",
    "except:\n",
    "    hypothesis = pd.read_csv('C:/Users/sutul/datasets/internet_store/hypothesis.csv')"
   ]
  },
  {
   "cell_type": "code",
   "execution_count": 3,
   "id": "79bbbcbb-99b9-4e2f-997d-14510d4d0994",
   "metadata": {},
   "outputs": [],
   "source": [
    "hypothesis\n",
    "pd.options.display.max_colwidth = 120"
   ]
  },
  {
   "cell_type": "markdown",
   "id": "93571bda-5ac5-4e0a-b498-1a2fdb3fc1d2",
   "metadata": {},
   "source": [
    "В нашем распоряжении 9 гипотез с известными параметрами Reach, Impact, Confidence и Effort, а значит мы можем рассчитать фреймворки ICE и RICE, чтобы с помощью них приоретизировать гипотезы для дальнейшего А/В - тестирования. "
   ]
  },
  {
   "cell_type": "code",
   "execution_count": 4,
   "id": "ba0a5c3a-0842-49db-bc61-4467c4977708",
   "metadata": {},
   "outputs": [],
   "source": [
    "hypothesis['ICE'] = round(hypothesis['Impact'] * hypothesis['Confidence'] / hypothesis['Efforts'], 1)\n",
    "hypothesis['RICE'] = hypothesis['Impact'] * hypothesis['Confidence'] * hypothesis['Reach'] / hypothesis['Efforts']"
   ]
  },
  {
   "cell_type": "code",
   "execution_count": 5,
   "id": "2e134080-fe5f-43b6-bce7-445fafa82089",
   "metadata": {},
   "outputs": [
    {
     "data": {
      "text/html": [
       "<div>\n",
       "<style scoped>\n",
       "    .dataframe tbody tr th:only-of-type {\n",
       "        vertical-align: middle;\n",
       "    }\n",
       "\n",
       "    .dataframe tbody tr th {\n",
       "        vertical-align: top;\n",
       "    }\n",
       "\n",
       "    .dataframe thead th {\n",
       "        text-align: right;\n",
       "    }\n",
       "</style>\n",
       "<table border=\"1\" class=\"dataframe\">\n",
       "  <thead>\n",
       "    <tr style=\"text-align: right;\">\n",
       "      <th></th>\n",
       "      <th>Hypothesis</th>\n",
       "      <th>Reach</th>\n",
       "      <th>Impact</th>\n",
       "      <th>Confidence</th>\n",
       "      <th>Efforts</th>\n",
       "      <th>ICE</th>\n",
       "      <th>RICE</th>\n",
       "    </tr>\n",
       "  </thead>\n",
       "  <tbody>\n",
       "    <tr>\n",
       "      <th>8</th>\n",
       "      <td>Запустить акцию, дающую скидку на товар в день рождения</td>\n",
       "      <td>1</td>\n",
       "      <td>9</td>\n",
       "      <td>9</td>\n",
       "      <td>5</td>\n",
       "      <td>16.2</td>\n",
       "      <td>16.2</td>\n",
       "    </tr>\n",
       "    <tr>\n",
       "      <th>0</th>\n",
       "      <td>Добавить два новых канала привлечения трафика, что позволит привлекать на 30% больше пользователей</td>\n",
       "      <td>3</td>\n",
       "      <td>10</td>\n",
       "      <td>8</td>\n",
       "      <td>6</td>\n",
       "      <td>13.3</td>\n",
       "      <td>40.0</td>\n",
       "    </tr>\n",
       "    <tr>\n",
       "      <th>7</th>\n",
       "      <td>Добавить форму подписки на все основные страницы, чтобы собрать базу клиентов для email-рассылок</td>\n",
       "      <td>10</td>\n",
       "      <td>7</td>\n",
       "      <td>8</td>\n",
       "      <td>5</td>\n",
       "      <td>11.2</td>\n",
       "      <td>112.0</td>\n",
       "    </tr>\n",
       "    <tr>\n",
       "      <th>6</th>\n",
       "      <td>Показать на главной странице баннеры с актуальными акциями и распродажами, чтобы увеличить конверсию</td>\n",
       "      <td>5</td>\n",
       "      <td>3</td>\n",
       "      <td>8</td>\n",
       "      <td>3</td>\n",
       "      <td>8.0</td>\n",
       "      <td>40.0</td>\n",
       "    </tr>\n",
       "    <tr>\n",
       "      <th>2</th>\n",
       "      <td>Добавить блоки рекомендаций товаров на сайт интернет магазина, чтобы повысить конверсию и средний чек заказа</td>\n",
       "      <td>8</td>\n",
       "      <td>3</td>\n",
       "      <td>7</td>\n",
       "      <td>3</td>\n",
       "      <td>7.0</td>\n",
       "      <td>56.0</td>\n",
       "    </tr>\n",
       "    <tr>\n",
       "      <th>1</th>\n",
       "      <td>Запустить собственную службу доставки, что сократит срок доставки заказов</td>\n",
       "      <td>2</td>\n",
       "      <td>5</td>\n",
       "      <td>4</td>\n",
       "      <td>10</td>\n",
       "      <td>2.0</td>\n",
       "      <td>4.0</td>\n",
       "    </tr>\n",
       "    <tr>\n",
       "      <th>5</th>\n",
       "      <td>Добавить страницу отзывов клиентов о магазине, что позволит увеличить количество заказов</td>\n",
       "      <td>3</td>\n",
       "      <td>2</td>\n",
       "      <td>2</td>\n",
       "      <td>3</td>\n",
       "      <td>1.3</td>\n",
       "      <td>4.0</td>\n",
       "    </tr>\n",
       "    <tr>\n",
       "      <th>3</th>\n",
       "      <td>Изменить структура категорий, что увеличит конверсию, т.к. пользователи быстрее найдут нужный товар</td>\n",
       "      <td>8</td>\n",
       "      <td>3</td>\n",
       "      <td>3</td>\n",
       "      <td>8</td>\n",
       "      <td>1.1</td>\n",
       "      <td>9.0</td>\n",
       "    </tr>\n",
       "    <tr>\n",
       "      <th>4</th>\n",
       "      <td>Изменить цвет фона главной страницы, чтобы увеличить вовлеченность пользователей</td>\n",
       "      <td>3</td>\n",
       "      <td>1</td>\n",
       "      <td>1</td>\n",
       "      <td>1</td>\n",
       "      <td>1.0</td>\n",
       "      <td>3.0</td>\n",
       "    </tr>\n",
       "  </tbody>\n",
       "</table>\n",
       "</div>"
      ],
      "text/plain": [
       "                                                                                                     Hypothesis  \\\n",
       "8                                                       Запустить акцию, дающую скидку на товар в день рождения   \n",
       "0            Добавить два новых канала привлечения трафика, что позволит привлекать на 30% больше пользователей   \n",
       "7              Добавить форму подписки на все основные страницы, чтобы собрать базу клиентов для email-рассылок   \n",
       "6          Показать на главной странице баннеры с актуальными акциями и распродажами, чтобы увеличить конверсию   \n",
       "2  Добавить блоки рекомендаций товаров на сайт интернет магазина, чтобы повысить конверсию и средний чек заказа   \n",
       "1                                     Запустить собственную службу доставки, что сократит срок доставки заказов   \n",
       "5                      Добавить страницу отзывов клиентов о магазине, что позволит увеличить количество заказов   \n",
       "3           Изменить структура категорий, что увеличит конверсию, т.к. пользователи быстрее найдут нужный товар   \n",
       "4                              Изменить цвет фона главной страницы, чтобы увеличить вовлеченность пользователей   \n",
       "\n",
       "   Reach  Impact  Confidence  Efforts   ICE   RICE  \n",
       "8      1       9           9        5  16.2   16.2  \n",
       "0      3      10           8        6  13.3   40.0  \n",
       "7     10       7           8        5  11.2  112.0  \n",
       "6      5       3           8        3   8.0   40.0  \n",
       "2      8       3           7        3   7.0   56.0  \n",
       "1      2       5           4       10   2.0    4.0  \n",
       "5      3       2           2        3   1.3    4.0  \n",
       "3      8       3           3        8   1.1    9.0  \n",
       "4      3       1           1        1   1.0    3.0  "
      ]
     },
     "execution_count": 5,
     "metadata": {},
     "output_type": "execute_result"
    }
   ],
   "source": [
    "hypothesis.sort_values(by='ICE', ascending=False)"
   ]
  },
  {
   "cell_type": "code",
   "execution_count": 6,
   "id": "1dbf5635-4c84-49c6-abfa-585f4f7b1ea7",
   "metadata": {},
   "outputs": [
    {
     "data": {
      "text/html": [
       "<div>\n",
       "<style scoped>\n",
       "    .dataframe tbody tr th:only-of-type {\n",
       "        vertical-align: middle;\n",
       "    }\n",
       "\n",
       "    .dataframe tbody tr th {\n",
       "        vertical-align: top;\n",
       "    }\n",
       "\n",
       "    .dataframe thead th {\n",
       "        text-align: right;\n",
       "    }\n",
       "</style>\n",
       "<table border=\"1\" class=\"dataframe\">\n",
       "  <thead>\n",
       "    <tr style=\"text-align: right;\">\n",
       "      <th></th>\n",
       "      <th>Hypothesis</th>\n",
       "      <th>Reach</th>\n",
       "      <th>Impact</th>\n",
       "      <th>Confidence</th>\n",
       "      <th>Efforts</th>\n",
       "      <th>ICE</th>\n",
       "      <th>RICE</th>\n",
       "    </tr>\n",
       "  </thead>\n",
       "  <tbody>\n",
       "    <tr>\n",
       "      <th>7</th>\n",
       "      <td>Добавить форму подписки на все основные страницы, чтобы собрать базу клиентов для email-рассылок</td>\n",
       "      <td>10</td>\n",
       "      <td>7</td>\n",
       "      <td>8</td>\n",
       "      <td>5</td>\n",
       "      <td>11.2</td>\n",
       "      <td>112.0</td>\n",
       "    </tr>\n",
       "    <tr>\n",
       "      <th>2</th>\n",
       "      <td>Добавить блоки рекомендаций товаров на сайт интернет магазина, чтобы повысить конверсию и средний чек заказа</td>\n",
       "      <td>8</td>\n",
       "      <td>3</td>\n",
       "      <td>7</td>\n",
       "      <td>3</td>\n",
       "      <td>7.0</td>\n",
       "      <td>56.0</td>\n",
       "    </tr>\n",
       "    <tr>\n",
       "      <th>0</th>\n",
       "      <td>Добавить два новых канала привлечения трафика, что позволит привлекать на 30% больше пользователей</td>\n",
       "      <td>3</td>\n",
       "      <td>10</td>\n",
       "      <td>8</td>\n",
       "      <td>6</td>\n",
       "      <td>13.3</td>\n",
       "      <td>40.0</td>\n",
       "    </tr>\n",
       "    <tr>\n",
       "      <th>6</th>\n",
       "      <td>Показать на главной странице баннеры с актуальными акциями и распродажами, чтобы увеличить конверсию</td>\n",
       "      <td>5</td>\n",
       "      <td>3</td>\n",
       "      <td>8</td>\n",
       "      <td>3</td>\n",
       "      <td>8.0</td>\n",
       "      <td>40.0</td>\n",
       "    </tr>\n",
       "    <tr>\n",
       "      <th>8</th>\n",
       "      <td>Запустить акцию, дающую скидку на товар в день рождения</td>\n",
       "      <td>1</td>\n",
       "      <td>9</td>\n",
       "      <td>9</td>\n",
       "      <td>5</td>\n",
       "      <td>16.2</td>\n",
       "      <td>16.2</td>\n",
       "    </tr>\n",
       "    <tr>\n",
       "      <th>3</th>\n",
       "      <td>Изменить структура категорий, что увеличит конверсию, т.к. пользователи быстрее найдут нужный товар</td>\n",
       "      <td>8</td>\n",
       "      <td>3</td>\n",
       "      <td>3</td>\n",
       "      <td>8</td>\n",
       "      <td>1.1</td>\n",
       "      <td>9.0</td>\n",
       "    </tr>\n",
       "    <tr>\n",
       "      <th>1</th>\n",
       "      <td>Запустить собственную службу доставки, что сократит срок доставки заказов</td>\n",
       "      <td>2</td>\n",
       "      <td>5</td>\n",
       "      <td>4</td>\n",
       "      <td>10</td>\n",
       "      <td>2.0</td>\n",
       "      <td>4.0</td>\n",
       "    </tr>\n",
       "    <tr>\n",
       "      <th>5</th>\n",
       "      <td>Добавить страницу отзывов клиентов о магазине, что позволит увеличить количество заказов</td>\n",
       "      <td>3</td>\n",
       "      <td>2</td>\n",
       "      <td>2</td>\n",
       "      <td>3</td>\n",
       "      <td>1.3</td>\n",
       "      <td>4.0</td>\n",
       "    </tr>\n",
       "    <tr>\n",
       "      <th>4</th>\n",
       "      <td>Изменить цвет фона главной страницы, чтобы увеличить вовлеченность пользователей</td>\n",
       "      <td>3</td>\n",
       "      <td>1</td>\n",
       "      <td>1</td>\n",
       "      <td>1</td>\n",
       "      <td>1.0</td>\n",
       "      <td>3.0</td>\n",
       "    </tr>\n",
       "  </tbody>\n",
       "</table>\n",
       "</div>"
      ],
      "text/plain": [
       "                                                                                                     Hypothesis  \\\n",
       "7              Добавить форму подписки на все основные страницы, чтобы собрать базу клиентов для email-рассылок   \n",
       "2  Добавить блоки рекомендаций товаров на сайт интернет магазина, чтобы повысить конверсию и средний чек заказа   \n",
       "0            Добавить два новых канала привлечения трафика, что позволит привлекать на 30% больше пользователей   \n",
       "6          Показать на главной странице баннеры с актуальными акциями и распродажами, чтобы увеличить конверсию   \n",
       "8                                                       Запустить акцию, дающую скидку на товар в день рождения   \n",
       "3           Изменить структура категорий, что увеличит конверсию, т.к. пользователи быстрее найдут нужный товар   \n",
       "1                                     Запустить собственную службу доставки, что сократит срок доставки заказов   \n",
       "5                      Добавить страницу отзывов клиентов о магазине, что позволит увеличить количество заказов   \n",
       "4                              Изменить цвет фона главной страницы, чтобы увеличить вовлеченность пользователей   \n",
       "\n",
       "   Reach  Impact  Confidence  Efforts   ICE   RICE  \n",
       "7     10       7           8        5  11.2  112.0  \n",
       "2      8       3           7        3   7.0   56.0  \n",
       "0      3      10           8        6  13.3   40.0  \n",
       "6      5       3           8        3   8.0   40.0  \n",
       "8      1       9           9        5  16.2   16.2  \n",
       "3      8       3           3        8   1.1    9.0  \n",
       "1      2       5           4       10   2.0    4.0  \n",
       "5      3       2           2        3   1.3    4.0  \n",
       "4      3       1           1        1   1.0    3.0  "
      ]
     },
     "execution_count": 6,
     "metadata": {},
     "output_type": "execute_result"
    }
   ],
   "source": [
    "hypothesis.sort_values(by='RICE', ascending=False)"
   ]
  },
  {
   "cell_type": "markdown",
   "id": "830ff9fb-a971-49d9-9343-a3f33c03c22e",
   "metadata": {},
   "source": [
    "**Вывод: Приоритетность гипотез по фреймворкам ICE и RICE отличается потому, что второй фреймворк учитвывает охват пользователей. Гипотеза о запуске акции в честь дня рождения, имеющая наивысший приоритет по фреймворку ICE, может и кажется более интересной и эффективной, но не является перспективной, т.к. будет сосредоточена на текущих пользователях, при этом она не имеет особого развития. Гипотеза с добавлением форм подписки на основные страницы кажется более перспективной, так как направлена на привлечение дополнительных пользователей, хотя и может иметь обратный эффект при неправильной реализации (когда предложения о подписке реализованы навязчиво).**"
   ]
  },
  {
   "cell_type": "markdown",
   "id": "20d71b45-7d13-4074-9979-d849bfaae978",
   "metadata": {},
   "source": [
    "## Анализ результатов A/B-теста.\n",
    "### Обзор полученных данных.\n",
    "\n",
    "Мы провели A/B-тест и получили результаты, которые описаны в файлах 'orders.csv' и 'visitors.csv'."
   ]
  },
  {
   "cell_type": "code",
   "execution_count": 7,
   "id": "1dcf7405-0dd0-441e-92a0-e2f687fd45e0",
   "metadata": {},
   "outputs": [],
   "source": [
    "try:\n",
    "    orders = pd.read_csv('/datasets/orders.csv')\n",
    "except:\n",
    "    orders = pd.read_csv('C:/Users/sutul/datasets/internet_store/orders.csv')"
   ]
  },
  {
   "cell_type": "code",
   "execution_count": 8,
   "id": "91363a2d-50de-4e8b-b314-51a079ae27d3",
   "metadata": {},
   "outputs": [
    {
     "data": {
      "text/html": [
       "<div>\n",
       "<style scoped>\n",
       "    .dataframe tbody tr th:only-of-type {\n",
       "        vertical-align: middle;\n",
       "    }\n",
       "\n",
       "    .dataframe tbody tr th {\n",
       "        vertical-align: top;\n",
       "    }\n",
       "\n",
       "    .dataframe thead th {\n",
       "        text-align: right;\n",
       "    }\n",
       "</style>\n",
       "<table border=\"1\" class=\"dataframe\">\n",
       "  <thead>\n",
       "    <tr style=\"text-align: right;\">\n",
       "      <th></th>\n",
       "      <th>transactionId</th>\n",
       "      <th>visitorId</th>\n",
       "      <th>date</th>\n",
       "      <th>revenue</th>\n",
       "      <th>group</th>\n",
       "    </tr>\n",
       "  </thead>\n",
       "  <tbody>\n",
       "    <tr>\n",
       "      <th>0</th>\n",
       "      <td>3667963787</td>\n",
       "      <td>3312258926</td>\n",
       "      <td>2019-08-15</td>\n",
       "      <td>1650</td>\n",
       "      <td>B</td>\n",
       "    </tr>\n",
       "    <tr>\n",
       "      <th>1</th>\n",
       "      <td>2804400009</td>\n",
       "      <td>3642806036</td>\n",
       "      <td>2019-08-15</td>\n",
       "      <td>730</td>\n",
       "      <td>B</td>\n",
       "    </tr>\n",
       "    <tr>\n",
       "      <th>2</th>\n",
       "      <td>2961555356</td>\n",
       "      <td>4069496402</td>\n",
       "      <td>2019-08-15</td>\n",
       "      <td>400</td>\n",
       "      <td>A</td>\n",
       "    </tr>\n",
       "    <tr>\n",
       "      <th>3</th>\n",
       "      <td>3797467345</td>\n",
       "      <td>1196621759</td>\n",
       "      <td>2019-08-15</td>\n",
       "      <td>9759</td>\n",
       "      <td>B</td>\n",
       "    </tr>\n",
       "    <tr>\n",
       "      <th>4</th>\n",
       "      <td>2282983706</td>\n",
       "      <td>2322279887</td>\n",
       "      <td>2019-08-15</td>\n",
       "      <td>2308</td>\n",
       "      <td>B</td>\n",
       "    </tr>\n",
       "  </tbody>\n",
       "</table>\n",
       "</div>"
      ],
      "text/plain": [
       "   transactionId   visitorId        date  revenue group\n",
       "0     3667963787  3312258926  2019-08-15     1650     B\n",
       "1     2804400009  3642806036  2019-08-15      730     B\n",
       "2     2961555356  4069496402  2019-08-15      400     A\n",
       "3     3797467345  1196621759  2019-08-15     9759     B\n",
       "4     2282983706  2322279887  2019-08-15     2308     B"
      ]
     },
     "execution_count": 8,
     "metadata": {},
     "output_type": "execute_result"
    }
   ],
   "source": [
    "orders.head()"
   ]
  },
  {
   "cell_type": "code",
   "execution_count": 9,
   "id": "37d2c6e0-57e2-4818-9e12-d458ea35a78c",
   "metadata": {},
   "outputs": [
    {
     "name": "stdout",
     "output_type": "stream",
     "text": [
      "<class 'pandas.core.frame.DataFrame'>\n",
      "RangeIndex: 1197 entries, 0 to 1196\n",
      "Data columns (total 5 columns):\n",
      " #   Column         Non-Null Count  Dtype \n",
      "---  ------         --------------  ----- \n",
      " 0   transactionId  1197 non-null   int64 \n",
      " 1   visitorId      1197 non-null   int64 \n",
      " 2   date           1197 non-null   object\n",
      " 3   revenue        1197 non-null   int64 \n",
      " 4   group          1197 non-null   object\n",
      "dtypes: int64(3), object(2)\n",
      "memory usage: 46.9+ KB\n"
     ]
    }
   ],
   "source": [
    "orders.info()"
   ]
  },
  {
   "cell_type": "markdown",
   "id": "f147c2d0-30e6-4515-8183-8106f854c7f9",
   "metadata": {},
   "source": [
    "В данном датасете 1197 строк, требуется изменить тип данных object на datetime в столбце 'date', пропусков значений нет."
   ]
  },
  {
   "cell_type": "code",
   "execution_count": 10,
   "id": "394d48ee-4d80-4dfa-929c-224e716afc60",
   "metadata": {},
   "outputs": [
    {
     "name": "stdout",
     "output_type": "stream",
     "text": [
      "<class 'pandas.core.frame.DataFrame'>\n",
      "RangeIndex: 1197 entries, 0 to 1196\n",
      "Data columns (total 5 columns):\n",
      " #   Column         Non-Null Count  Dtype         \n",
      "---  ------         --------------  -----         \n",
      " 0   transactionId  1197 non-null   int64         \n",
      " 1   visitorId      1197 non-null   int64         \n",
      " 2   date           1197 non-null   datetime64[ns]\n",
      " 3   revenue        1197 non-null   int64         \n",
      " 4   group          1197 non-null   object        \n",
      "dtypes: datetime64[ns](1), int64(3), object(1)\n",
      "memory usage: 46.9+ KB\n"
     ]
    }
   ],
   "source": [
    "orders['date'] = pd.to_datetime(orders['date'], format='%Y-%m-%d')\n",
    "orders.info()"
   ]
  },
  {
   "cell_type": "code",
   "execution_count": 11,
   "id": "f9d22160-0620-479d-bd53-88ec812ba7d1",
   "metadata": {},
   "outputs": [],
   "source": [
    "try:\n",
    "    visitors = pd.read_csv('/datasets/visitors.csv')\n",
    "except:\n",
    "    visitors = pd.read_csv('C:/Users/sutul/datasets/internet_store/visitors.csv')"
   ]
  },
  {
   "cell_type": "code",
   "execution_count": 12,
   "id": "5ee0ffe5-efea-4275-aa04-804ee557416d",
   "metadata": {},
   "outputs": [
    {
     "data": {
      "text/html": [
       "<div>\n",
       "<style scoped>\n",
       "    .dataframe tbody tr th:only-of-type {\n",
       "        vertical-align: middle;\n",
       "    }\n",
       "\n",
       "    .dataframe tbody tr th {\n",
       "        vertical-align: top;\n",
       "    }\n",
       "\n",
       "    .dataframe thead th {\n",
       "        text-align: right;\n",
       "    }\n",
       "</style>\n",
       "<table border=\"1\" class=\"dataframe\">\n",
       "  <thead>\n",
       "    <tr style=\"text-align: right;\">\n",
       "      <th></th>\n",
       "      <th>date</th>\n",
       "      <th>group</th>\n",
       "      <th>visitors</th>\n",
       "    </tr>\n",
       "  </thead>\n",
       "  <tbody>\n",
       "    <tr>\n",
       "      <th>0</th>\n",
       "      <td>2019-08-01</td>\n",
       "      <td>A</td>\n",
       "      <td>719</td>\n",
       "    </tr>\n",
       "    <tr>\n",
       "      <th>1</th>\n",
       "      <td>2019-08-02</td>\n",
       "      <td>A</td>\n",
       "      <td>619</td>\n",
       "    </tr>\n",
       "    <tr>\n",
       "      <th>2</th>\n",
       "      <td>2019-08-03</td>\n",
       "      <td>A</td>\n",
       "      <td>507</td>\n",
       "    </tr>\n",
       "    <tr>\n",
       "      <th>3</th>\n",
       "      <td>2019-08-04</td>\n",
       "      <td>A</td>\n",
       "      <td>717</td>\n",
       "    </tr>\n",
       "    <tr>\n",
       "      <th>4</th>\n",
       "      <td>2019-08-05</td>\n",
       "      <td>A</td>\n",
       "      <td>756</td>\n",
       "    </tr>\n",
       "  </tbody>\n",
       "</table>\n",
       "</div>"
      ],
      "text/plain": [
       "         date group  visitors\n",
       "0  2019-08-01     A       719\n",
       "1  2019-08-02     A       619\n",
       "2  2019-08-03     A       507\n",
       "3  2019-08-04     A       717\n",
       "4  2019-08-05     A       756"
      ]
     },
     "execution_count": 12,
     "metadata": {},
     "output_type": "execute_result"
    }
   ],
   "source": [
    "visitors.head()"
   ]
  },
  {
   "cell_type": "code",
   "execution_count": 13,
   "id": "7f831a47-efd2-472e-a397-87f18e0ea256",
   "metadata": {},
   "outputs": [
    {
     "name": "stdout",
     "output_type": "stream",
     "text": [
      "<class 'pandas.core.frame.DataFrame'>\n",
      "RangeIndex: 62 entries, 0 to 61\n",
      "Data columns (total 3 columns):\n",
      " #   Column    Non-Null Count  Dtype \n",
      "---  ------    --------------  ----- \n",
      " 0   date      62 non-null     object\n",
      " 1   group     62 non-null     object\n",
      " 2   visitors  62 non-null     int64 \n",
      "dtypes: int64(1), object(2)\n",
      "memory usage: 1.6+ KB\n"
     ]
    }
   ],
   "source": [
    "visitors.info()"
   ]
  },
  {
   "cell_type": "markdown",
   "id": "88e92d0b-e73d-4067-83fe-9a7fce0f83b7",
   "metadata": {},
   "source": [
    "В данном датасете всего 62 строки, пропусков также нет, требуется поменять тип данных object на datetime в столбце 'date'."
   ]
  },
  {
   "cell_type": "code",
   "execution_count": 14,
   "id": "99f6230e-f249-414d-a967-fcf10f1c1357",
   "metadata": {},
   "outputs": [
    {
     "name": "stdout",
     "output_type": "stream",
     "text": [
      "<class 'pandas.core.frame.DataFrame'>\n",
      "RangeIndex: 62 entries, 0 to 61\n",
      "Data columns (total 3 columns):\n",
      " #   Column    Non-Null Count  Dtype         \n",
      "---  ------    --------------  -----         \n",
      " 0   date      62 non-null     datetime64[ns]\n",
      " 1   group     62 non-null     object        \n",
      " 2   visitors  62 non-null     int64         \n",
      "dtypes: datetime64[ns](1), int64(1), object(1)\n",
      "memory usage: 1.6+ KB\n"
     ]
    }
   ],
   "source": [
    "visitors['date'] = pd.to_datetime(visitors['date'], format='%Y-%m-%d')\n",
    "visitors.info()"
   ]
  },
  {
   "cell_type": "markdown",
   "id": "c660d00a-e687-4673-8c72-5a22e56d07e6",
   "metadata": {},
   "source": [
    "Посмотрим на всякий случай присутствуют ли в данных дубликаты в обоих датасетах."
   ]
  },
  {
   "cell_type": "code",
   "execution_count": 15,
   "id": "3672fbca-5014-46be-90a2-14f84950853d",
   "metadata": {},
   "outputs": [
    {
     "name": "stdout",
     "output_type": "stream",
     "text": [
      "явных дубликатов - 0\n",
      "явных дубликатов - 0\n"
     ]
    }
   ],
   "source": [
    "print('явных дубликатов -', orders.duplicated().sum())\n",
    "print('явных дубликатов -', visitors.duplicated().sum())"
   ]
  },
  {
   "cell_type": "markdown",
   "id": "bff12cbc",
   "metadata": {},
   "source": [
    "Проанализируем корректность категориальных переменных к коим относятся группы пользователей."
   ]
  },
  {
   "cell_type": "code",
   "execution_count": 16,
   "id": "bfad073d",
   "metadata": {},
   "outputs": [
    {
     "data": {
      "text/plain": [
       "array(['B', 'A'], dtype=object)"
      ]
     },
     "execution_count": 16,
     "metadata": {},
     "output_type": "execute_result"
    }
   ],
   "source": [
    "orders['group'].unique()"
   ]
  },
  {
   "cell_type": "code",
   "execution_count": 17,
   "id": "41a7b238",
   "metadata": {},
   "outputs": [
    {
     "data": {
      "text/plain": [
       "array(['A', 'B'], dtype=object)"
      ]
     },
     "execution_count": 17,
     "metadata": {},
     "output_type": "execute_result"
    }
   ],
   "source": [
    "visitors['group'].unique()"
   ]
  },
  {
   "cell_type": "markdown",
   "id": "dcc6ee75",
   "metadata": {},
   "source": [
    "Группы пользователей заданы корректно.\n",
    "\n",
    "Посмотрим на времененной промежуток А/В - теста."
   ]
  },
  {
   "cell_type": "code",
   "execution_count": 18,
   "id": "cd1e4a10",
   "metadata": {},
   "outputs": [
    {
     "name": "stdout",
     "output_type": "stream",
     "text": [
      "2019-08-01 00:00:00 2019-08-31 00:00:00\n"
     ]
    }
   ],
   "source": [
    "print(orders['date'].min(), orders['date'].max())"
   ]
  },
  {
   "cell_type": "code",
   "execution_count": 19,
   "id": "a36f3518",
   "metadata": {},
   "outputs": [
    {
     "name": "stdout",
     "output_type": "stream",
     "text": [
      "2019-08-01 00:00:00 2019-08-31 00:00:00\n"
     ]
    }
   ],
   "source": [
    "print(visitors['date'].min(), visitors['date'].max())"
   ]
  },
  {
   "cell_type": "markdown",
   "id": "7f059ced",
   "metadata": {},
   "source": [
    "Временные интервалы датасетов соответствуют друг другу - август 2019 года.\n",
    "\n",
    "Посмотрим на распределение пользователей по группам, по обоим ли группам есть достаточно информации."
   ]
  },
  {
   "cell_type": "code",
   "execution_count": 20,
   "id": "84af6dae",
   "metadata": {},
   "outputs": [
    {
     "data": {
      "text/plain": [
       "B    640\n",
       "A    557\n",
       "Name: group, dtype: int64"
      ]
     },
     "execution_count": 20,
     "metadata": {},
     "output_type": "execute_result"
    }
   ],
   "source": [
    "orders['group'].value_counts()"
   ]
  },
  {
   "cell_type": "markdown",
   "id": "0a3cf262",
   "metadata": {},
   "source": [
    "В датасете есть достаточно информации по обоим группам. Еще проверим попадают ли одни и те же пользователи в разные группы в период проведения А/В - теста."
   ]
  },
  {
   "cell_type": "code",
   "execution_count": 21,
   "id": "65565baf",
   "metadata": {},
   "outputs": [
    {
     "data": {
      "text/plain": [
       "58"
      ]
     },
     "execution_count": 21,
     "metadata": {},
     "output_type": "execute_result"
    }
   ],
   "source": [
    "(\n",
    "    len(orders.pivot_table(index='visitorId', values='transactionId', columns='group', aggfunc='count').\n",
    "    query('A >= 1 & B >= 1'))\n",
    ")"
   ]
  },
  {
   "cell_type": "markdown",
   "id": "439291cf",
   "metadata": {},
   "source": [
    "58 пользователей сразу в двух группах, в данном случае их нужно рассматривать как дубликаты, т.к. непоятно на самом деле к какой группе пользователи принадлежат, учитывая незначительное количество относительно общего количества пользователей, наиболее целесообразное решение относительно этих данных - удаление."
   ]
  },
  {
   "cell_type": "code",
   "execution_count": 22,
   "id": "b8c2d398",
   "metadata": {},
   "outputs": [
    {
     "name": "stdout",
     "output_type": "stream",
     "text": [
      "<class 'pandas.core.frame.DataFrame'>\n",
      "RangeIndex: 1016 entries, 0 to 1015\n",
      "Data columns (total 5 columns):\n",
      " #   Column         Non-Null Count  Dtype         \n",
      "---  ------         --------------  -----         \n",
      " 0   transactionId  1016 non-null   int64         \n",
      " 1   visitorId      1016 non-null   int64         \n",
      " 2   date           1016 non-null   datetime64[ns]\n",
      " 3   revenue        1016 non-null   int64         \n",
      " 4   group          1016 non-null   object        \n",
      "dtypes: datetime64[ns](1), int64(3), object(1)\n",
      "memory usage: 39.8+ KB\n"
     ]
    }
   ],
   "source": [
    "users = (\n",
    "    orders.pivot_table(index='visitorId', values='transactionId', columns='group', aggfunc='count').\n",
    "    query('A >= 1 & B >= 1').index\n",
    ")\n",
    "remove_list = orders[orders['visitorId'].isin(users)]\n",
    "orders = orders.drop(labels=remove_list.index).reset_index(drop=True)\n",
    "orders.info()"
   ]
  },
  {
   "cell_type": "markdown",
   "id": "e9b8fa5a",
   "metadata": {},
   "source": [
    "На 58 пользователей, состоявших в обоих группах одновременно приходилась 181 запись, что уже не так уж и мало (около 15% всего датасета). Однако для \"чистоты\" эксперимента ими необходимо пожертвовать."
   ]
  },
  {
   "cell_type": "markdown",
   "id": "9b50d5ab-508f-42f4-8430-dcafd314c4a2",
   "metadata": {},
   "source": [
    "### Анализ выручки.\n",
    "\n",
    "Посчитаем значения кумулятивной выручки по группам и построим соответствующие графики."
   ]
  },
  {
   "cell_type": "code",
   "execution_count": 23,
   "id": "d8f0e1d1-b187-4e64-bf27-25df44bfd7b9",
   "metadata": {},
   "outputs": [
    {
     "data": {
      "text/html": [
       "<div>\n",
       "<style scoped>\n",
       "    .dataframe tbody tr th:only-of-type {\n",
       "        vertical-align: middle;\n",
       "    }\n",
       "\n",
       "    .dataframe tbody tr th {\n",
       "        vertical-align: top;\n",
       "    }\n",
       "\n",
       "    .dataframe thead th {\n",
       "        text-align: right;\n",
       "    }\n",
       "</style>\n",
       "<table border=\"1\" class=\"dataframe\">\n",
       "  <thead>\n",
       "    <tr style=\"text-align: right;\">\n",
       "      <th></th>\n",
       "      <th>date</th>\n",
       "      <th>group</th>\n",
       "      <th>revenue</th>\n",
       "      <th>transactionId</th>\n",
       "      <th>visitorId</th>\n",
       "    </tr>\n",
       "  </thead>\n",
       "  <tbody>\n",
       "    <tr>\n",
       "      <th>0</th>\n",
       "      <td>2019-08-01</td>\n",
       "      <td>A</td>\n",
       "      <td>142779</td>\n",
       "      <td>23</td>\n",
       "      <td>19</td>\n",
       "    </tr>\n",
       "    <tr>\n",
       "      <th>1</th>\n",
       "      <td>2019-08-01</td>\n",
       "      <td>B</td>\n",
       "      <td>59758</td>\n",
       "      <td>17</td>\n",
       "      <td>17</td>\n",
       "    </tr>\n",
       "    <tr>\n",
       "      <th>2</th>\n",
       "      <td>2019-08-02</td>\n",
       "      <td>A</td>\n",
       "      <td>91602</td>\n",
       "      <td>19</td>\n",
       "      <td>18</td>\n",
       "    </tr>\n",
       "    <tr>\n",
       "      <th>3</th>\n",
       "      <td>2019-08-02</td>\n",
       "      <td>B</td>\n",
       "      <td>162043</td>\n",
       "      <td>23</td>\n",
       "      <td>22</td>\n",
       "    </tr>\n",
       "    <tr>\n",
       "      <th>4</th>\n",
       "      <td>2019-08-03</td>\n",
       "      <td>A</td>\n",
       "      <td>112473</td>\n",
       "      <td>24</td>\n",
       "      <td>24</td>\n",
       "    </tr>\n",
       "  </tbody>\n",
       "</table>\n",
       "</div>"
      ],
      "text/plain": [
       "        date group  revenue  transactionId  visitorId\n",
       "0 2019-08-01     A   142779             23         19\n",
       "1 2019-08-01     B    59758             17         17\n",
       "2 2019-08-02     A    91602             19         18\n",
       "3 2019-08-02     B   162043             23         22\n",
       "4 2019-08-03     A   112473             24         24"
      ]
     },
     "execution_count": 23,
     "metadata": {},
     "output_type": "execute_result"
    }
   ],
   "source": [
    "# группируем данные по дате и группе, производим необходимые вычисления, получаем данные с разбивкой по датам\n",
    "datesGroups = (\n",
    "                orders.pivot_table(index=['date', 'group'],\n",
    "                                   values=['revenue', 'transactionId', 'visitorId'],\n",
    "                                   aggfunc={'revenue': 'sum', 'transactionId': 'count', 'visitorId': 'nunique'})\n",
    "                .reset_index()\n",
    ")\n",
    "datesGroups.head()"
   ]
  },
  {
   "cell_type": "code",
   "execution_count": 24,
   "id": "7245ddeb-875f-4dd9-a49f-ee3a271f5224",
   "metadata": {},
   "outputs": [
    {
     "data": {
      "text/html": [
       "<div>\n",
       "<style scoped>\n",
       "    .dataframe tbody tr th:only-of-type {\n",
       "        vertical-align: middle;\n",
       "    }\n",
       "\n",
       "    .dataframe tbody tr th {\n",
       "        vertical-align: top;\n",
       "    }\n",
       "\n",
       "    .dataframe thead th {\n",
       "        text-align: right;\n",
       "    }\n",
       "</style>\n",
       "<table border=\"1\" class=\"dataframe\">\n",
       "  <thead>\n",
       "    <tr style=\"text-align: right;\">\n",
       "      <th></th>\n",
       "      <th>date</th>\n",
       "      <th>group</th>\n",
       "      <th>revenue</th>\n",
       "      <th>transactionId</th>\n",
       "      <th>visitorId</th>\n",
       "      <th>cumsum_revenue</th>\n",
       "    </tr>\n",
       "  </thead>\n",
       "  <tbody>\n",
       "    <tr>\n",
       "      <th>0</th>\n",
       "      <td>2019-08-01</td>\n",
       "      <td>A</td>\n",
       "      <td>142779</td>\n",
       "      <td>23</td>\n",
       "      <td>19</td>\n",
       "      <td>142.779</td>\n",
       "    </tr>\n",
       "    <tr>\n",
       "      <th>1</th>\n",
       "      <td>2019-08-01</td>\n",
       "      <td>B</td>\n",
       "      <td>59758</td>\n",
       "      <td>17</td>\n",
       "      <td>17</td>\n",
       "      <td>59.758</td>\n",
       "    </tr>\n",
       "    <tr>\n",
       "      <th>2</th>\n",
       "      <td>2019-08-02</td>\n",
       "      <td>A</td>\n",
       "      <td>91602</td>\n",
       "      <td>19</td>\n",
       "      <td>18</td>\n",
       "      <td>234.381</td>\n",
       "    </tr>\n",
       "    <tr>\n",
       "      <th>3</th>\n",
       "      <td>2019-08-02</td>\n",
       "      <td>B</td>\n",
       "      <td>162043</td>\n",
       "      <td>23</td>\n",
       "      <td>22</td>\n",
       "      <td>221.801</td>\n",
       "    </tr>\n",
       "    <tr>\n",
       "      <th>4</th>\n",
       "      <td>2019-08-03</td>\n",
       "      <td>A</td>\n",
       "      <td>112473</td>\n",
       "      <td>24</td>\n",
       "      <td>24</td>\n",
       "      <td>346.854</td>\n",
       "    </tr>\n",
       "    <tr>\n",
       "      <th>5</th>\n",
       "      <td>2019-08-03</td>\n",
       "      <td>B</td>\n",
       "      <td>67049</td>\n",
       "      <td>14</td>\n",
       "      <td>14</td>\n",
       "      <td>288.850</td>\n",
       "    </tr>\n",
       "    <tr>\n",
       "      <th>6</th>\n",
       "      <td>2019-08-04</td>\n",
       "      <td>A</td>\n",
       "      <td>41176</td>\n",
       "      <td>11</td>\n",
       "      <td>11</td>\n",
       "      <td>388.030</td>\n",
       "    </tr>\n",
       "    <tr>\n",
       "      <th>7</th>\n",
       "      <td>2019-08-04</td>\n",
       "      <td>B</td>\n",
       "      <td>96890</td>\n",
       "      <td>14</td>\n",
       "      <td>13</td>\n",
       "      <td>385.740</td>\n",
       "    </tr>\n",
       "    <tr>\n",
       "      <th>8</th>\n",
       "      <td>2019-08-05</td>\n",
       "      <td>A</td>\n",
       "      <td>86383</td>\n",
       "      <td>22</td>\n",
       "      <td>22</td>\n",
       "      <td>474.413</td>\n",
       "    </tr>\n",
       "    <tr>\n",
       "      <th>9</th>\n",
       "      <td>2019-08-05</td>\n",
       "      <td>B</td>\n",
       "      <td>89908</td>\n",
       "      <td>21</td>\n",
       "      <td>21</td>\n",
       "      <td>475.648</td>\n",
       "    </tr>\n",
       "  </tbody>\n",
       "</table>\n",
       "</div>"
      ],
      "text/plain": [
       "        date group  revenue  transactionId  visitorId  cumsum_revenue\n",
       "0 2019-08-01     A   142779             23         19         142.779\n",
       "1 2019-08-01     B    59758             17         17          59.758\n",
       "2 2019-08-02     A    91602             19         18         234.381\n",
       "3 2019-08-02     B   162043             23         22         221.801\n",
       "4 2019-08-03     A   112473             24         24         346.854\n",
       "5 2019-08-03     B    67049             14         14         288.850\n",
       "6 2019-08-04     A    41176             11         11         388.030\n",
       "7 2019-08-04     B    96890             14         13         385.740\n",
       "8 2019-08-05     A    86383             22         22         474.413\n",
       "9 2019-08-05     B    89908             21         21         475.648"
      ]
     },
     "execution_count": 24,
     "metadata": {},
     "output_type": "execute_result"
    }
   ],
   "source": [
    "# добавляем столбец с расчетным значением кумулятивной выручки по группам\n",
    "datesGroups['cumsum_revenue'] = datesGroups.groupby('group')['revenue'].cumsum() / 1000\n",
    "datesGroups.head(10)"
   ]
  },
  {
   "cell_type": "markdown",
   "id": "a0059f06-50f3-4c7a-b702-4f0f99b971ba",
   "metadata": {},
   "source": [
    "Строим визуализации."
   ]
  },
  {
   "cell_type": "code",
   "execution_count": 25,
   "id": "b6740cce-fa8d-4841-94a5-65f0bdd5e30f",
   "metadata": {},
   "outputs": [
    {
     "data": {
      "image/png": "[encoded data removed]",
      "text/plain": [
       "<Figure size 1400x500 with 1 Axes>"
      ]
     },
     "metadata": {},
     "output_type": "display_data"
    }
   ],
   "source": [
    "plt.figure(figsize=(14, 5))\n",
    "ax = plt.subplot()\n",
    "sns.lineplot(x=\"date\", y=\"cumsum_revenue\", hue=\"group\", data=datesGroups)\n",
    "ax.set_xlabel('дата')\n",
    "ax.set_ylabel('выручка, тыс. у.е.')\n",
    "ax.set_title('График кумулятивной выручки по группам')\n",
    "ax.grid(True)\n",
    "plt.legend(title='группа');"
   ]
  },
  {
   "cell_type": "markdown",
   "id": "879f21e7-18ee-4b1d-a64e-ffead4eba406",
   "metadata": {},
   "source": [
    "**Вывод: Выручка по группе В в период с 17 августа по 21 августа имеет существенный рост, вероятно это связано с аномально высокими заказами со стороны отдельных пользователей. До этого периода выручка пользователей из группы незначительно превышала группу А.**"
   ]
  },
  {
   "cell_type": "markdown",
   "id": "bba2faa1-6f74-437d-b142-785d254cb9ff",
   "metadata": {},
   "source": [
    "### Анализ среднего чека.\n",
    "#### Кумулятивный средний чек.\n",
    "\n",
    "Посчитаем значения кумулятивного среднего чека и построим соответствующий график. Для этого добавим столбец с кумулятивным значением заказов и разделим на него кумулятивную выручку."
   ]
  },
  {
   "cell_type": "code",
   "execution_count": 26,
   "id": "edb1872c-5827-48d7-acba-f3f6bbc949b2",
   "metadata": {},
   "outputs": [
    {
     "data": {
      "text/html": [
       "<div>\n",
       "<style scoped>\n",
       "    .dataframe tbody tr th:only-of-type {\n",
       "        vertical-align: middle;\n",
       "    }\n",
       "\n",
       "    .dataframe tbody tr th {\n",
       "        vertical-align: top;\n",
       "    }\n",
       "\n",
       "    .dataframe thead th {\n",
       "        text-align: right;\n",
       "    }\n",
       "</style>\n",
       "<table border=\"1\" class=\"dataframe\">\n",
       "  <thead>\n",
       "    <tr style=\"text-align: right;\">\n",
       "      <th></th>\n",
       "      <th>date</th>\n",
       "      <th>group</th>\n",
       "      <th>revenue</th>\n",
       "      <th>transactionId</th>\n",
       "      <th>visitorId</th>\n",
       "      <th>cumsum_revenue</th>\n",
       "      <th>cumsum_orders</th>\n",
       "      <th>cum_avg_receipt</th>\n",
       "    </tr>\n",
       "  </thead>\n",
       "  <tbody>\n",
       "    <tr>\n",
       "      <th>0</th>\n",
       "      <td>2019-08-01</td>\n",
       "      <td>A</td>\n",
       "      <td>142779</td>\n",
       "      <td>23</td>\n",
       "      <td>19</td>\n",
       "      <td>142.779</td>\n",
       "      <td>23</td>\n",
       "      <td>6.207783</td>\n",
       "    </tr>\n",
       "    <tr>\n",
       "      <th>1</th>\n",
       "      <td>2019-08-01</td>\n",
       "      <td>B</td>\n",
       "      <td>59758</td>\n",
       "      <td>17</td>\n",
       "      <td>17</td>\n",
       "      <td>59.758</td>\n",
       "      <td>17</td>\n",
       "      <td>3.515176</td>\n",
       "    </tr>\n",
       "    <tr>\n",
       "      <th>2</th>\n",
       "      <td>2019-08-02</td>\n",
       "      <td>A</td>\n",
       "      <td>91602</td>\n",
       "      <td>19</td>\n",
       "      <td>18</td>\n",
       "      <td>234.381</td>\n",
       "      <td>42</td>\n",
       "      <td>5.580500</td>\n",
       "    </tr>\n",
       "    <tr>\n",
       "      <th>3</th>\n",
       "      <td>2019-08-02</td>\n",
       "      <td>B</td>\n",
       "      <td>162043</td>\n",
       "      <td>23</td>\n",
       "      <td>22</td>\n",
       "      <td>221.801</td>\n",
       "      <td>40</td>\n",
       "      <td>5.545025</td>\n",
       "    </tr>\n",
       "    <tr>\n",
       "      <th>4</th>\n",
       "      <td>2019-08-03</td>\n",
       "      <td>A</td>\n",
       "      <td>112473</td>\n",
       "      <td>24</td>\n",
       "      <td>24</td>\n",
       "      <td>346.854</td>\n",
       "      <td>66</td>\n",
       "      <td>5.255364</td>\n",
       "    </tr>\n",
       "  </tbody>\n",
       "</table>\n",
       "</div>"
      ],
      "text/plain": [
       "        date group  revenue  transactionId  visitorId  cumsum_revenue  \\\n",
       "0 2019-08-01     A   142779             23         19         142.779   \n",
       "1 2019-08-01     B    59758             17         17          59.758   \n",
       "2 2019-08-02     A    91602             19         18         234.381   \n",
       "3 2019-08-02     B   162043             23         22         221.801   \n",
       "4 2019-08-03     A   112473             24         24         346.854   \n",
       "\n",
       "   cumsum_orders  cum_avg_receipt  \n",
       "0             23         6.207783  \n",
       "1             17         3.515176  \n",
       "2             42         5.580500  \n",
       "3             40         5.545025  \n",
       "4             66         5.255364  "
      ]
     },
     "execution_count": 26,
     "metadata": {},
     "output_type": "execute_result"
    }
   ],
   "source": [
    "datesGroups['cumsum_orders'] = datesGroups.groupby('group')['transactionId'].cumsum()\n",
    "datesGroups['cum_avg_receipt'] = datesGroups['cumsum_revenue'] / datesGroups['cumsum_orders']\n",
    "datesGroups.head()"
   ]
  },
  {
   "cell_type": "code",
   "execution_count": 27,
   "id": "89747052-e11a-4cab-8c93-2582ee27fa40",
   "metadata": {},
   "outputs": [
    {
     "data": {
      "image/png": "[encoded data removed]",
      "text/plain": [
       "<Figure size 1400x500 with 1 Axes>"
      ]
     },
     "metadata": {},
     "output_type": "display_data"
    }
   ],
   "source": [
    "plt.figure(figsize=(14, 5))\n",
    "ax = plt.subplot()\n",
    "sns.lineplot(x=\"date\", y=\"cum_avg_receipt\", hue=\"group\", data=datesGroups)\n",
    "ax.set_xlabel('дата')\n",
    "ax.set_ylabel('средний чек, тыс. у.е.')\n",
    "ax.set_title('График кумулятивного среднего чека по группам')\n",
    "ax.grid(True)\n",
    "plt.legend(title='группа');"
   ]
  },
  {
   "cell_type": "markdown",
   "id": "9bc02e36-93e1-4a8c-ba8c-26e89e05c7f2",
   "metadata": {},
   "source": [
    "**Вывод: Значение кумулятивного средего чека стабилизируются ближе к середине месяца, затем наблюдается сильное увеличение в группе В, что не происходит в группе А. Похоже на крупные заказы 18 августа.**"
   ]
  },
  {
   "cell_type": "markdown",
   "id": "66502e01-7960-42fe-a30b-928032e1e2c5",
   "metadata": {},
   "source": [
    "#### Изменение кумулятивного среднего чека группы B к группе A.\n",
    "\n",
    "Построим график изменения кумулятивного среднего чека группы B к группе A. Для этого необходимо поделить значения среднего чека за каждые сутки по группе В на группу А."
   ]
  },
  {
   "cell_type": "code",
   "execution_count": 28,
   "id": "16511fcd-b99f-4fde-a13a-08a2e8a1cd80",
   "metadata": {},
   "outputs": [
    {
     "data": {
      "text/html": [
       "<div>\n",
       "<style scoped>\n",
       "    .dataframe tbody tr th:only-of-type {\n",
       "        vertical-align: middle;\n",
       "    }\n",
       "\n",
       "    .dataframe tbody tr th {\n",
       "        vertical-align: top;\n",
       "    }\n",
       "\n",
       "    .dataframe thead th {\n",
       "        text-align: right;\n",
       "    }\n",
       "</style>\n",
       "<table border=\"1\" class=\"dataframe\">\n",
       "  <thead>\n",
       "    <tr style=\"text-align: right;\">\n",
       "      <th>group</th>\n",
       "      <th>date</th>\n",
       "      <th>A</th>\n",
       "      <th>B</th>\n",
       "      <th>b_a</th>\n",
       "    </tr>\n",
       "  </thead>\n",
       "  <tbody>\n",
       "    <tr>\n",
       "      <th>0</th>\n",
       "      <td>2019-08-01</td>\n",
       "      <td>6.207783</td>\n",
       "      <td>3.515176</td>\n",
       "      <td>-0.433747</td>\n",
       "    </tr>\n",
       "    <tr>\n",
       "      <th>1</th>\n",
       "      <td>2019-08-02</td>\n",
       "      <td>5.580500</td>\n",
       "      <td>5.545025</td>\n",
       "      <td>-0.006357</td>\n",
       "    </tr>\n",
       "    <tr>\n",
       "      <th>2</th>\n",
       "      <td>2019-08-03</td>\n",
       "      <td>5.255364</td>\n",
       "      <td>5.349074</td>\n",
       "      <td>0.017831</td>\n",
       "    </tr>\n",
       "    <tr>\n",
       "      <th>3</th>\n",
       "      <td>2019-08-04</td>\n",
       "      <td>5.039351</td>\n",
       "      <td>5.672647</td>\n",
       "      <td>0.125670</td>\n",
       "    </tr>\n",
       "    <tr>\n",
       "      <th>4</th>\n",
       "      <td>2019-08-05</td>\n",
       "      <td>4.792051</td>\n",
       "      <td>5.344360</td>\n",
       "      <td>0.115255</td>\n",
       "    </tr>\n",
       "  </tbody>\n",
       "</table>\n",
       "</div>"
      ],
      "text/plain": [
       "group       date         A         B       b_a\n",
       "0     2019-08-01  6.207783  3.515176 -0.433747\n",
       "1     2019-08-02  5.580500  5.545025 -0.006357\n",
       "2     2019-08-03  5.255364  5.349074  0.017831\n",
       "3     2019-08-04  5.039351  5.672647  0.125670\n",
       "4     2019-08-05  4.792051  5.344360  0.115255"
      ]
     },
     "execution_count": 28,
     "metadata": {},
     "output_type": "execute_result"
    }
   ],
   "source": [
    "b_a_avg_receipt = datesGroups.pivot_table(index='date', columns='group', values='cum_avg_receipt').reset_index()\n",
    "b_a_avg_receipt['b_a'] = b_a_avg_receipt['B'] / b_a_avg_receipt['A'] - 1\n",
    "b_a_avg_receipt.head()"
   ]
  },
  {
   "cell_type": "code",
   "execution_count": 29,
   "id": "1a74e582-1cce-4ca6-a587-17edf3ee5bae",
   "metadata": {},
   "outputs": [
    {
     "data": {
      "image/png": "[encoded data removed]",
      "text/plain": [
       "<Figure size 1400x500 with 1 Axes>"
      ]
     },
     "metadata": {},
     "output_type": "display_data"
    }
   ],
   "source": [
    "b_a_avg_receipt.plot(x='date', y='b_a', figsize=(14,5), grid=True)\n",
    "plt.legend('')\n",
    "plt.title('Относительное изменение кумулятивного среднего чека группы В к группе А')\n",
    "plt.xlabel('дата')\n",
    "plt.ylabel('изменение среднего чека, %')\n",
    "plt.axhline(y=0, color='black', linestyle='--');"
   ]
  },
  {
   "cell_type": "markdown",
   "id": "89d8064c-7a03-4c83-b209-9f9f22dd0ae4",
   "metadata": {},
   "source": [
    "**Вывод: В районе 18 августа явно присутствуют аномально высокие заказы в категории В.**\n",
    "\n",
    "#### Средний чек по пользователям.\n",
    "\n",
    "Посмотрим на средний чек в разрезе пользователей, чтобы увидеть аномалии."
   ]
  },
  {
   "cell_type": "code",
   "execution_count": 30,
   "id": "3847d4a7-0016-49fb-bc84-a01ed151ffce",
   "metadata": {},
   "outputs": [
    {
     "data": {
      "image/png": "[encoded data removed]",
      "text/plain": [
       "<Figure size 1400x500 with 1 Axes>"
      ]
     },
     "metadata": {},
     "output_type": "display_data"
    }
   ],
   "source": [
    "x_values = pd.Series(range(0,len(orders['revenue'])))\n",
    "plt.figure(figsize=(14, 5))\n",
    "plt.scatter(x_values, orders['revenue']/1000)\n",
    "plt.title('Распределение выручки с заказов по пользователям')\n",
    "plt.xlabel('дата')\n",
    "plt.ylabel('выручка с заказа, тыс. у.е.');"
   ]
  },
  {
   "cell_type": "markdown",
   "id": "870bc1a2-e8d7-4194-a8e3-e7b0dee5b67e",
   "metadata": {},
   "source": [
    "Основная масса пользователей заказывала на сумму менее 100 тыс. у.е. Посчитаем сколько какие границы у 95 и 99 процентилей по величине заказа."
   ]
  },
  {
   "cell_type": "code",
   "execution_count": 31,
   "id": "17d41e9c-9945-4e4e-a5c6-1370feeeda60",
   "metadata": {},
   "outputs": [
    {
     "name": "stdout",
     "output_type": "stream",
     "text": [
      "[26.785 53.904]\n"
     ]
    }
   ],
   "source": [
    "print(np.percentile(orders['revenue'], [95, 99])/1000) "
   ]
  },
  {
   "cell_type": "markdown",
   "id": "67c2e790-28e2-4120-9865-bb3e3cebbeb4",
   "metadata": {},
   "source": [
    "**Вывод: У 5 % заказы свыше 26.8 тыс. у.е., только у 1% свыше 54 тыс. у.е. Выберем в качестве границы аномалий - 26.8 тыс. у.е.**"
   ]
  },
  {
   "cell_type": "code",
   "execution_count": 32,
   "id": "458b18bd-bc69-40dc-b34a-96b5322f56a3",
   "metadata": {},
   "outputs": [],
   "source": [
    "revenue_limit = np.percentile(orders['revenue'], 95)/1000"
   ]
  },
  {
   "cell_type": "markdown",
   "id": "d75817e6-261b-4669-9dfd-49b0f3321f27",
   "metadata": {},
   "source": [
    "### Анализ количества заказов.\n",
    "#### Кумулятивный средний заказ на посетителя.\n",
    "\n",
    "Теперь посчитаем и построим график кумулятивного среднего количества заказов на посетителя по группам (аналогично выручке и среднему чеку). Здесь нам понадобится датасет с количеством посетителей. Добавим соответствующие столбцы в датафрейм 'datesGroups'."
   ]
  },
  {
   "cell_type": "code",
   "execution_count": 33,
   "id": "b5bc8e6e-cd77-429e-8174-13777c1ffa29",
   "metadata": {},
   "outputs": [
    {
     "data": {
      "text/html": [
       "<div>\n",
       "<style scoped>\n",
       "    .dataframe tbody tr th:only-of-type {\n",
       "        vertical-align: middle;\n",
       "    }\n",
       "\n",
       "    .dataframe tbody tr th {\n",
       "        vertical-align: top;\n",
       "    }\n",
       "\n",
       "    .dataframe thead th {\n",
       "        text-align: right;\n",
       "    }\n",
       "</style>\n",
       "<table border=\"1\" class=\"dataframe\">\n",
       "  <thead>\n",
       "    <tr style=\"text-align: right;\">\n",
       "      <th></th>\n",
       "      <th>date</th>\n",
       "      <th>group</th>\n",
       "      <th>revenue</th>\n",
       "      <th>transactionId</th>\n",
       "      <th>visitorId</th>\n",
       "      <th>cumsum_revenue</th>\n",
       "      <th>cumsum_orders</th>\n",
       "      <th>cum_avg_receipt</th>\n",
       "      <th>visitors</th>\n",
       "    </tr>\n",
       "  </thead>\n",
       "  <tbody>\n",
       "    <tr>\n",
       "      <th>0</th>\n",
       "      <td>2019-08-01</td>\n",
       "      <td>A</td>\n",
       "      <td>142779</td>\n",
       "      <td>23</td>\n",
       "      <td>19</td>\n",
       "      <td>142.779</td>\n",
       "      <td>23</td>\n",
       "      <td>6.207783</td>\n",
       "      <td>719</td>\n",
       "    </tr>\n",
       "    <tr>\n",
       "      <th>1</th>\n",
       "      <td>2019-08-01</td>\n",
       "      <td>B</td>\n",
       "      <td>59758</td>\n",
       "      <td>17</td>\n",
       "      <td>17</td>\n",
       "      <td>59.758</td>\n",
       "      <td>17</td>\n",
       "      <td>3.515176</td>\n",
       "      <td>713</td>\n",
       "    </tr>\n",
       "    <tr>\n",
       "      <th>2</th>\n",
       "      <td>2019-08-02</td>\n",
       "      <td>A</td>\n",
       "      <td>91602</td>\n",
       "      <td>19</td>\n",
       "      <td>18</td>\n",
       "      <td>234.381</td>\n",
       "      <td>42</td>\n",
       "      <td>5.580500</td>\n",
       "      <td>619</td>\n",
       "    </tr>\n",
       "    <tr>\n",
       "      <th>3</th>\n",
       "      <td>2019-08-02</td>\n",
       "      <td>B</td>\n",
       "      <td>162043</td>\n",
       "      <td>23</td>\n",
       "      <td>22</td>\n",
       "      <td>221.801</td>\n",
       "      <td>40</td>\n",
       "      <td>5.545025</td>\n",
       "      <td>581</td>\n",
       "    </tr>\n",
       "    <tr>\n",
       "      <th>4</th>\n",
       "      <td>2019-08-03</td>\n",
       "      <td>A</td>\n",
       "      <td>112473</td>\n",
       "      <td>24</td>\n",
       "      <td>24</td>\n",
       "      <td>346.854</td>\n",
       "      <td>66</td>\n",
       "      <td>5.255364</td>\n",
       "      <td>507</td>\n",
       "    </tr>\n",
       "  </tbody>\n",
       "</table>\n",
       "</div>"
      ],
      "text/plain": [
       "        date group  revenue  transactionId  visitorId  cumsum_revenue  \\\n",
       "0 2019-08-01     A   142779             23         19         142.779   \n",
       "1 2019-08-01     B    59758             17         17          59.758   \n",
       "2 2019-08-02     A    91602             19         18         234.381   \n",
       "3 2019-08-02     B   162043             23         22         221.801   \n",
       "4 2019-08-03     A   112473             24         24         346.854   \n",
       "\n",
       "   cumsum_orders  cum_avg_receipt  visitors  \n",
       "0             23         6.207783       719  \n",
       "1             17         3.515176       713  \n",
       "2             42         5.580500       619  \n",
       "3             40         5.545025       581  \n",
       "4             66         5.255364       507  "
      ]
     },
     "execution_count": 33,
     "metadata": {},
     "output_type": "execute_result"
    }
   ],
   "source": [
    "datesGroups = datesGroups.merge(visitors, on=['date', 'group'])\n",
    "datesGroups.head()"
   ]
  },
  {
   "cell_type": "code",
   "execution_count": 34,
   "id": "c3ef3819-a2b8-444e-9f52-47afe4a5195b",
   "metadata": {},
   "outputs": [
    {
     "data": {
      "text/html": [
       "<div>\n",
       "<style scoped>\n",
       "    .dataframe tbody tr th:only-of-type {\n",
       "        vertical-align: middle;\n",
       "    }\n",
       "\n",
       "    .dataframe tbody tr th {\n",
       "        vertical-align: top;\n",
       "    }\n",
       "\n",
       "    .dataframe thead th {\n",
       "        text-align: right;\n",
       "    }\n",
       "</style>\n",
       "<table border=\"1\" class=\"dataframe\">\n",
       "  <thead>\n",
       "    <tr style=\"text-align: right;\">\n",
       "      <th></th>\n",
       "      <th>date</th>\n",
       "      <th>group</th>\n",
       "      <th>revenue</th>\n",
       "      <th>transactionId</th>\n",
       "      <th>visitorId</th>\n",
       "      <th>cumsum_revenue</th>\n",
       "      <th>cumsum_orders</th>\n",
       "      <th>cum_avg_receipt</th>\n",
       "      <th>visitors</th>\n",
       "      <th>cumsum_visitors</th>\n",
       "      <th>cum_avg_order</th>\n",
       "    </tr>\n",
       "  </thead>\n",
       "  <tbody>\n",
       "    <tr>\n",
       "      <th>0</th>\n",
       "      <td>2019-08-01</td>\n",
       "      <td>A</td>\n",
       "      <td>142779</td>\n",
       "      <td>23</td>\n",
       "      <td>19</td>\n",
       "      <td>142.779</td>\n",
       "      <td>23</td>\n",
       "      <td>6.207783</td>\n",
       "      <td>719</td>\n",
       "      <td>719</td>\n",
       "      <td>0.031989</td>\n",
       "    </tr>\n",
       "    <tr>\n",
       "      <th>1</th>\n",
       "      <td>2019-08-01</td>\n",
       "      <td>B</td>\n",
       "      <td>59758</td>\n",
       "      <td>17</td>\n",
       "      <td>17</td>\n",
       "      <td>59.758</td>\n",
       "      <td>17</td>\n",
       "      <td>3.515176</td>\n",
       "      <td>713</td>\n",
       "      <td>713</td>\n",
       "      <td>0.023843</td>\n",
       "    </tr>\n",
       "    <tr>\n",
       "      <th>2</th>\n",
       "      <td>2019-08-02</td>\n",
       "      <td>A</td>\n",
       "      <td>91602</td>\n",
       "      <td>19</td>\n",
       "      <td>18</td>\n",
       "      <td>234.381</td>\n",
       "      <td>42</td>\n",
       "      <td>5.580500</td>\n",
       "      <td>619</td>\n",
       "      <td>1338</td>\n",
       "      <td>0.031390</td>\n",
       "    </tr>\n",
       "    <tr>\n",
       "      <th>3</th>\n",
       "      <td>2019-08-02</td>\n",
       "      <td>B</td>\n",
       "      <td>162043</td>\n",
       "      <td>23</td>\n",
       "      <td>22</td>\n",
       "      <td>221.801</td>\n",
       "      <td>40</td>\n",
       "      <td>5.545025</td>\n",
       "      <td>581</td>\n",
       "      <td>1294</td>\n",
       "      <td>0.030912</td>\n",
       "    </tr>\n",
       "    <tr>\n",
       "      <th>4</th>\n",
       "      <td>2019-08-03</td>\n",
       "      <td>A</td>\n",
       "      <td>112473</td>\n",
       "      <td>24</td>\n",
       "      <td>24</td>\n",
       "      <td>346.854</td>\n",
       "      <td>66</td>\n",
       "      <td>5.255364</td>\n",
       "      <td>507</td>\n",
       "      <td>1845</td>\n",
       "      <td>0.035772</td>\n",
       "    </tr>\n",
       "  </tbody>\n",
       "</table>\n",
       "</div>"
      ],
      "text/plain": [
       "        date group  revenue  transactionId  visitorId  cumsum_revenue  \\\n",
       "0 2019-08-01     A   142779             23         19         142.779   \n",
       "1 2019-08-01     B    59758             17         17          59.758   \n",
       "2 2019-08-02     A    91602             19         18         234.381   \n",
       "3 2019-08-02     B   162043             23         22         221.801   \n",
       "4 2019-08-03     A   112473             24         24         346.854   \n",
       "\n",
       "   cumsum_orders  cum_avg_receipt  visitors  cumsum_visitors  cum_avg_order  \n",
       "0             23         6.207783       719              719       0.031989  \n",
       "1             17         3.515176       713              713       0.023843  \n",
       "2             42         5.580500       619             1338       0.031390  \n",
       "3             40         5.545025       581             1294       0.030912  \n",
       "4             66         5.255364       507             1845       0.035772  "
      ]
     },
     "execution_count": 34,
     "metadata": {},
     "output_type": "execute_result"
    }
   ],
   "source": [
    "datesGroups['cumsum_visitors'] = datesGroups.groupby('group')['visitors'].cumsum()\n",
    "datesGroups['cum_avg_order'] = datesGroups['cumsum_orders'] / datesGroups['cumsum_visitors'] \n",
    "datesGroups.head(5)"
   ]
  },
  {
   "cell_type": "code",
   "execution_count": 35,
   "id": "80e3ba1e-d05e-4e08-9fbb-237b238e2898",
   "metadata": {},
   "outputs": [
    {
     "data": {
      "image/png": "[encoded data removed]",
      "text/plain": [
       "<Figure size 1400x500 with 1 Axes>"
      ]
     },
     "metadata": {},
     "output_type": "display_data"
    }
   ],
   "source": [
    "plt.figure(figsize=(14, 5))\n",
    "ax = plt.subplot()\n",
    "sns.lineplot(x=\"date\", y=\"cum_avg_order\", hue=\"group\", data=datesGroups)\n",
    "ax.set_xlabel('дата')\n",
    "ax.set_ylabel('количество заказов')\n",
    "ax.set_title('График кумулятивного среднего количества заказов по группам')\n",
    "ax.grid(True)\n",
    "plt.legend(title='группа');"
   ]
  },
  {
   "cell_type": "markdown",
   "id": "fbafaaac-def2-4ee3-906d-ade6ac6e7274",
   "metadata": {},
   "source": [
    "**Вывод: Количество заказов в группе В после 4 августа становится больше, причем происходит это в период 5 по 9 августа, в том числе за чет единовременного  снижения заказов в группе А.**\n",
    "\n",
    "#### Изменение кумулятивного среднего количества заказов на посетителя группы B к группе A\n",
    "\n",
    "Построим график относительного изменения кумулятивного среднего количества заказов на посетителя группы B к группе A аналогично среднему кумулятивному чеку."
   ]
  },
  {
   "cell_type": "code",
   "execution_count": 36,
   "id": "d5006bc6-19ac-4516-b382-4e4c63a3d766",
   "metadata": {},
   "outputs": [
    {
     "data": {
      "text/html": [
       "<div>\n",
       "<style scoped>\n",
       "    .dataframe tbody tr th:only-of-type {\n",
       "        vertical-align: middle;\n",
       "    }\n",
       "\n",
       "    .dataframe tbody tr th {\n",
       "        vertical-align: top;\n",
       "    }\n",
       "\n",
       "    .dataframe thead th {\n",
       "        text-align: right;\n",
       "    }\n",
       "</style>\n",
       "<table border=\"1\" class=\"dataframe\">\n",
       "  <thead>\n",
       "    <tr style=\"text-align: right;\">\n",
       "      <th>group</th>\n",
       "      <th>date</th>\n",
       "      <th>A</th>\n",
       "      <th>B</th>\n",
       "      <th>b_a</th>\n",
       "    </tr>\n",
       "  </thead>\n",
       "  <tbody>\n",
       "    <tr>\n",
       "      <th>0</th>\n",
       "      <td>2019-08-01</td>\n",
       "      <td>0.031989</td>\n",
       "      <td>0.023843</td>\n",
       "      <td>-0.254650</td>\n",
       "    </tr>\n",
       "    <tr>\n",
       "      <th>1</th>\n",
       "      <td>2019-08-02</td>\n",
       "      <td>0.031390</td>\n",
       "      <td>0.030912</td>\n",
       "      <td>-0.015235</td>\n",
       "    </tr>\n",
       "    <tr>\n",
       "      <th>2</th>\n",
       "      <td>2019-08-03</td>\n",
       "      <td>0.035772</td>\n",
       "      <td>0.029950</td>\n",
       "      <td>-0.162759</td>\n",
       "    </tr>\n",
       "    <tr>\n",
       "      <th>3</th>\n",
       "      <td>2019-08-04</td>\n",
       "      <td>0.030055</td>\n",
       "      <td>0.026428</td>\n",
       "      <td>-0.120659</td>\n",
       "    </tr>\n",
       "    <tr>\n",
       "      <th>4</th>\n",
       "      <td>2019-08-05</td>\n",
       "      <td>0.029837</td>\n",
       "      <td>0.027134</td>\n",
       "      <td>-0.090595</td>\n",
       "    </tr>\n",
       "  </tbody>\n",
       "</table>\n",
       "</div>"
      ],
      "text/plain": [
       "group       date         A         B       b_a\n",
       "0     2019-08-01  0.031989  0.023843 -0.254650\n",
       "1     2019-08-02  0.031390  0.030912 -0.015235\n",
       "2     2019-08-03  0.035772  0.029950 -0.162759\n",
       "3     2019-08-04  0.030055  0.026428 -0.120659\n",
       "4     2019-08-05  0.029837  0.027134 -0.090595"
      ]
     },
     "execution_count": 36,
     "metadata": {},
     "output_type": "execute_result"
    }
   ],
   "source": [
    "b_a_avg_order = datesGroups.pivot_table(index='date', columns='group', values='cum_avg_order').reset_index()\n",
    "b_a_avg_order['b_a'] = b_a_avg_order['B'] / b_a_avg_order['A'] - 1\n",
    "b_a_avg_order.head()"
   ]
  },
  {
   "cell_type": "code",
   "execution_count": 37,
   "id": "917bbd50-81d6-4316-8a87-735828d75d09",
   "metadata": {},
   "outputs": [
    {
     "data": {
      "image/png": "[encoded data removed]",
      "text/plain": [
       "<Figure size 1400x500 with 1 Axes>"
      ]
     },
     "metadata": {},
     "output_type": "display_data"
    }
   ],
   "source": [
    "b_a_avg_order.plot(x='date', y='b_a', figsize=(14,5), grid=True)\n",
    "plt.legend('')\n",
    "plt.title('Относительное изменение кумулятивного количества заказов на посетителя группы В к группе А')\n",
    "plt.xlabel('дата')\n",
    "plt.ylabel('изменение количества заказов, %')\n",
    "plt.axhline(y=0, color='black', linestyle='--');"
   ]
  },
  {
   "cell_type": "markdown",
   "id": "c56d7206-c640-473c-81b0-18aba823fbc8",
   "metadata": {},
   "source": [
    "**Вывод: Заказов в группе В существенно больше - где-то на 15%.**\n",
    "\n",
    "#### Количество заказов по пользователям.\n",
    "\n",
    "Посмотрим на количество заказов в разрезе пользователей, чтобы увидеть аномалии."
   ]
  },
  {
   "cell_type": "code",
   "execution_count": 38,
   "id": "1cdd507e-b7c2-4f53-b160-0ed19cec892c",
   "metadata": {},
   "outputs": [
    {
     "name": "stdout",
     "output_type": "stream",
     "text": [
      "orders\n",
      "1    937\n",
      "2     29\n",
      "3      7\n",
      "dtype: int64\n"
     ]
    }
   ],
   "source": [
    "ordersByUsers = orders.groupby('visitorId', as_index=False)['transactionId'].nunique()\n",
    "ordersByUsers.columns = ['userId', 'orders']\n",
    "print(ordersByUsers.sort_values(by='orders', ascending=False).value_counts('orders')) "
   ]
  },
  {
   "cell_type": "markdown",
   "id": "ded8323a-6533-4e72-90c1-1071a72db6fa",
   "metadata": {},
   "source": [
    "Пользователи в основном совершают один заказ."
   ]
  },
  {
   "cell_type": "code",
   "execution_count": 39,
   "id": "7977453e-8e30-4823-90a3-4579105ff87b",
   "metadata": {},
   "outputs": [
    {
     "data": {
      "image/png": "[encoded data removed]",
      "text/plain": [
       "<Figure size 1400x500 with 1 Axes>"
      ]
     },
     "metadata": {},
     "output_type": "display_data"
    }
   ],
   "source": [
    "x_values = pd.Series(range(0,len(ordersByUsers)))\n",
    "plt.figure(figsize=(14, 5))\n",
    "plt.scatter(x_values, ordersByUsers['orders'])\n",
    "plt.title('Распределение количества заказов по посетителям')\n",
    "plt.xlabel('дата')\n",
    "plt.ylabel('количество заказов');"
   ]
  },
  {
   "cell_type": "markdown",
   "id": "1081d563-3a3f-46da-a1a4-93654614e5dd",
   "metadata": {},
   "source": [
    "Основная масса пользователей заказывала 1 заказ. Посчитаем сколько процентов пользователей заказывали 2 заказа и более."
   ]
  },
  {
   "cell_type": "code",
   "execution_count": 40,
   "id": "3132fefb-e5fb-4dd1-860e-57ceeceec575",
   "metadata": {},
   "outputs": [
    {
     "name": "stdout",
     "output_type": "stream",
     "text": [
      "[1. 2.]\n"
     ]
    }
   ],
   "source": [
    "print(np.percentile(ordersByUsers['orders'], [95, 99])) "
   ]
  },
  {
   "cell_type": "markdown",
   "id": "0d9e8222-f99f-4386-9799-3d74dc993906",
   "metadata": {},
   "source": [
    "**Вывод: 2 заказа и более оформляли всего 1% пользователей. Выберем в качестве границы аномалий - 2 заказа.**"
   ]
  },
  {
   "cell_type": "code",
   "execution_count": 41,
   "id": "6e7e53aa-a985-47b7-bc41-458ccfff0d44",
   "metadata": {},
   "outputs": [],
   "source": [
    "orders_limit = np.percentile(ordersByUsers['orders'], 99) "
   ]
  },
  {
   "cell_type": "markdown",
   "id": "74bb4f73-1630-44a5-b55d-7c5e982a350b",
   "metadata": {},
   "source": [
    "### Расчет статистической значимости различий по числу заказов по \"серым\" данным.\n",
    "\n",
    "Посчитаем статистическую значимость различий в среднем числе заказов на пользователя и среднем чеке между группами по «сырым» данным — без удаления аномальных пользователей.\n",
    "\n",
    "Сформулируем гипотезы.\n",
    "- Нулевая: различий в среднем количестве заказов между группами нет.\n",
    "- Альтернативная: различия в среднем между группами есть.\n",
    "  \n",
    "Создадим переменные ordersByUsersA и ordersByUsersB со столбцами ['userId', 'orders']. В них для пользователей, которые заказывали хотя бы 1 раз, укажем число совершённых заказов. "
   ]
  },
  {
   "cell_type": "code",
   "execution_count": 42,
   "id": "1b43732c-2685-4248-8cc2-a0cc19fefa8d",
   "metadata": {},
   "outputs": [],
   "source": [
    "dates_a = datesGroups[datesGroups['group'] == 'A']\n",
    "dates_b = datesGroups[datesGroups['group'] == 'B']"
   ]
  },
  {
   "cell_type": "code",
   "execution_count": 43,
   "id": "3d927739-cd7c-4397-a779-90da326317be",
   "metadata": {},
   "outputs": [],
   "source": [
    "ordersByUsersA = (\n",
    "    orders[orders['group'] == 'A']\n",
    "    .groupby('visitorId', as_index=False)\n",
    "    .agg({'transactionId': pd.Series.nunique})\n",
    ")\n",
    "ordersByUsersA.columns = ['userId', 'orders']\n",
    "\n",
    "ordersByUsersB = (\n",
    "    orders[orders['group'] == 'B']\n",
    "    .groupby('visitorId', as_index=False)\n",
    "    .agg({'transactionId': pd.Series.nunique})\n",
    ")\n",
    "ordersByUsersB.columns = ['userId', 'orders']"
   ]
  },
  {
   "cell_type": "markdown",
   "id": "574ea106-0566-456f-958a-613c5e9fb1f4",
   "metadata": {},
   "source": [
    "Объявим переменные sampleA и sampleB, в которых пользователям из разных групп будет соответствовать количество заказов. Тем, кто ничего не заказал, будут соответствовать нули. Это нужно, чтобы подготовить выборки к проверке критерием Манна-Уитни."
   ]
  },
  {
   "cell_type": "code",
   "execution_count": 44,
   "id": "7211cbde-6ef8-4830-ac65-e2aa53f90c6b",
   "metadata": {},
   "outputs": [],
   "source": [
    "sampleA = (\n",
    "            pd.concat([ordersByUsersA['orders'],\n",
    "                       pd.Series(0, index=np.arange(dates_a['visitors'].sum() - len(ordersByUsersA['orders'])), name='orders')],\n",
    "                      axis=0)\n",
    ")\n",
    "sampleB = (\n",
    "            pd.concat([ordersByUsersB['orders'],\n",
    "                       pd.Series(0, index=np.arange(dates_b['visitors'].sum() - len(ordersByUsersB['orders'])), name='orders')],\n",
    "                      axis=0)\n",
    ")"
   ]
  },
  {
   "cell_type": "markdown",
   "id": "8035bfbf-2add-4283-bd55-5373d0d82c1a",
   "metadata": {},
   "source": [
    "В sampleA сохранили выборку, где каждый элемент — число заказов определённого пользователя, в том числе ноль. Значит, число элементов sampleA — это количество пользователей, сумма всех элементов — количество заказов. Чтобы получить среднее число заказов на пользователя, поделим сумму заказов на число пользователей — найдём среднее в выборке sampleA методом mean(). Аналогично найдём среднее группы B: SampleB.mean()."
   ]
  },
  {
   "cell_type": "code",
   "execution_count": 45,
   "id": "2fc86984-00d9-475b-b07a-52fbc2c15f87",
   "metadata": {},
   "outputs": [
    {
     "name": "stdout",
     "output_type": "stream",
     "text": [
      "p-value - 0.011\n",
      "различия в заказах на пользователя - 0.160\n"
     ]
    }
   ],
   "source": [
    "print('p-value -', \"{0:.3f}\".format(st.mannwhitneyu(sampleA, sampleB)[1]))\n",
    "\n",
    "print('различия в заказах на пользователя -', \"{0:.3f}\".format(sampleB.mean() / sampleA.mean() - 1))"
   ]
  },
  {
   "cell_type": "markdown",
   "id": "21cdd1d8-9e5a-4589-b7bb-0c4a62b2e5fc",
   "metadata": {},
   "source": [
    "**Вывод:\n",
    "Первое число — p-value = 0.011 меньше 0.05. Значит, нулевую гипотезу о том, что статистически значимых различий в среднем числе заказов между группами нет, отвергаем - различия в по количеству между группами есть, относительный \"проигрыш\" группы А равен 16% — второе число в выводе.**"
   ]
  },
  {
   "cell_type": "markdown",
   "id": "c4b1b7d9-80e0-4c8a-b302-1ea853b8efe3",
   "metadata": {},
   "source": [
    "### Расчет статистической значимости различий в среднем чеке по \"серым\" даннным.\n",
    "\n",
    "Теперь проверим статистическую значимость различий в среднем чеке между сегментами. \n",
    "- Нулевая гипотеза: различий в среднем чеке между группами нет.\n",
    "- Альтернативная гипотеза: различия в среднем чеке между группами есть.\n",
    "\n",
    "Чтобы рассчитать статистическую значимость различий в среднем чеке, передадим критерию mannwhitneyu() данные о выручке с заказов. \n",
    "А ещё найдём относительные различия в среднем чеке между группами:"
   ]
  },
  {
   "cell_type": "code",
   "execution_count": 46,
   "id": "e05d9d16-3f23-4f9f-b7d1-d9872c205678",
   "metadata": {},
   "outputs": [
    {
     "name": "stdout",
     "output_type": "stream",
     "text": [
      "p-value - 0.829\n",
      "различия в среднем чеке - 0.287\n"
     ]
    }
   ],
   "source": [
    "print('p-value -', \\\n",
    "      '{0:.3f}'.\\\n",
    "      format(st.mannwhitneyu(orders[orders['group']=='A']['revenue'], orders[orders['group']=='B']['revenue'])[1]))\n",
    "print('различия в среднем чеке -',\\\n",
    "      '{0:.3f}'.\\\n",
    "      format(orders[orders['group']=='B']['revenue'].mean()/orders[orders['group']=='A']['revenue'].mean()-1))"
   ]
  },
  {
   "cell_type": "markdown",
   "id": "60f734c7-77df-4a0e-b26b-43f06181fb3f",
   "metadata": {},
   "source": [
    "**Вывод: \n",
    "P-value значительно больше 0.05, причин отвергать нулевую гипотезу и считать, что в среднем чеке есть различия, нет. Однако, средний чек группы B значительно выше среднего чека группы A (почти на 29%), скорее всего из-за аномальных значений, т.к. на среднеарифмитеское они имеют существенное влияние.**"
   ]
  },
  {
   "cell_type": "markdown",
   "id": "902c8fe1-1792-4266-b922-42e92fe70863",
   "metadata": {},
   "source": [
    "### Расчет статистической значимости различий в среднем чеке по \"очищенным\" даннным.\n",
    "\n",
    "Посмотрим сколько аномальных значений, находящихся выше границ, установленных ранее по количеству заказов и выручке."
   ]
  },
  {
   "cell_type": "code",
   "execution_count": 47,
   "id": "2e25eba0-7125-42a3-b3b9-af5575ede54a",
   "metadata": {},
   "outputs": [
    {
     "name": "stdout",
     "output_type": "stream",
     "text": [
      "487    113298937\n",
      "937    148427295\n",
      "792    204675465\n",
      "33     249864742\n",
      "586    358944393\n",
      "dtype: int64\n",
      "58\n"
     ]
    }
   ],
   "source": [
    "usersWithManyOrders = pd.concat(\n",
    "    [\n",
    "        ordersByUsersA[ordersByUsersA['orders'] > orders_limit]['userId'],\n",
    "        ordersByUsersB[ordersByUsersB['orders'] > orders_limit]['userId'],\n",
    "    ],\n",
    "    axis=0,\n",
    ")\n",
    "usersWithExpensiveOrders = orders[orders['revenue'] > (revenue_limit * 1000)]['visitorId']\n",
    "abnormalUsers = (\n",
    "    pd.concat([usersWithManyOrders, usersWithExpensiveOrders], axis=0)\n",
    "    .drop_duplicates()\n",
    "    .sort_values()\n",
    ")\n",
    "print(abnormalUsers.head(5))\n",
    "print(abnormalUsers.shape[0])"
   ]
  },
  {
   "cell_type": "markdown",
   "id": "31ec8414-b55c-4281-a4f1-241ed942dc85",
   "metadata": {},
   "source": [
    "Всего 58 аномалии. Отфильтруем данные от аномалий, границы которых были определены выше и повторим расчеты статистической значимости по среднему чеку."
   ]
  },
  {
   "cell_type": "code",
   "execution_count": 48,
   "id": "bb53c171-c637-46f2-af22-557f9903af57",
   "metadata": {},
   "outputs": [
    {
     "name": "stdout",
     "output_type": "stream",
     "text": [
      "p-value -  0.646\n",
      "различия в среднем чеке - -0.048\n"
     ]
    }
   ],
   "source": [
    "print('p-value - ',\n",
    "    '{0:.3f}'.format(\n",
    "        st.mannwhitneyu(\n",
    "            orders[\n",
    "                np.logical_and(\n",
    "                    orders['group'] == 'A',\n",
    "                    np.logical_not(orders['visitorId'].isin(abnormalUsers)),\n",
    "                )\n",
    "            ]['revenue'],\n",
    "            orders[\n",
    "                np.logical_and(\n",
    "                    orders['group'] == 'B',\n",
    "                    np.logical_not(orders['visitorId'].isin(abnormalUsers)),\n",
    "                )\n",
    "            ]['revenue'],\n",
    "        )[1]\n",
    "    )\n",
    ")\n",
    "\n",
    "print('различия в среднем чеке -',\n",
    "    \"{0:.3f}\".format(\n",
    "        orders[\n",
    "            np.logical_and(\n",
    "                orders['group'] == 'B',\n",
    "                np.logical_not(orders['visitorId'].isin(abnormalUsers)),\n",
    "            )\n",
    "        ]['revenue'].mean()\n",
    "        / orders[\n",
    "            np.logical_and(\n",
    "                orders['group'] == 'A',\n",
    "                np.logical_not(orders['visitorId'].isin(abnormalUsers)),\n",
    "            )\n",
    "        ]['revenue'].mean()\n",
    "        - 1\n",
    "    )\n",
    ")"
   ]
  },
  {
   "cell_type": "markdown",
   "id": "1ad1a284-d39d-4dc2-87f1-fc14261a9fd0",
   "metadata": {},
   "source": [
    "**Вывод:\n",
    "по \"очищеннным\" данным P-value стал немного меньше, чем по \"сырым\", но причин отвергать нулевую гипотезу и считать, что в среднем чеке есть различия, нет. В это же время средний чек группы B по отфильтрованным данным почти равен среднему чеку группы A, так как ушли аномалии.**"
   ]
  },
  {
   "cell_type": "markdown",
   "id": "36b8a02b-9491-4d3c-96d2-71b13feaf279",
   "metadata": {},
   "source": [
    "### Расчет статистической значимости различий в количестве заказов по \"очищенным\" даннным.\n",
    "\n",
    "Отфильтруем sampleA и sampleB и повторим расчеты статистической значимости по количеству заказов."
   ]
  },
  {
   "cell_type": "code",
   "execution_count": 49,
   "id": "195dcaf7-3a0b-460d-a340-c1ec783c293e",
   "metadata": {},
   "outputs": [],
   "source": [
    "sampleAFiltered = pd.concat(\n",
    "    [\n",
    "        ordersByUsersA[\n",
    "            np.logical_not(ordersByUsersA['userId'].isin(abnormalUsers))\n",
    "        ]['orders'],\n",
    "        pd.Series(\n",
    "            0,\n",
    "            index=np.arange(\n",
    "                dates_a['visitorId'].sum() - len(ordersByUsersA['orders'])\n",
    "            ),\n",
    "            name='orders',\n",
    "        ),\n",
    "    ],\n",
    "    axis=0,\n",
    ")\n",
    "\n",
    "sampleBFiltered = pd.concat(\n",
    "    [\n",
    "        ordersByUsersB[\n",
    "            np.logical_not(ordersByUsersB['userId'].isin(abnormalUsers))\n",
    "        ]['orders'],\n",
    "        pd.Series(\n",
    "            0,\n",
    "            index=np.arange(\n",
    "                dates_b['visitorId'].sum() - len(ordersByUsersB['orders'])\n",
    "            ),\n",
    "            name='orders',\n",
    "        ),\n",
    "    ],\n",
    "    axis=0,\n",
    ")"
   ]
  },
  {
   "cell_type": "code",
   "execution_count": 50,
   "id": "a246629e-a678-4209-ab4b-6b39f76eeff2",
   "metadata": {},
   "outputs": [
    {
     "name": "stdout",
     "output_type": "stream",
     "text": [
      "p-value - 1.000\n",
      "различия в заказах на пользователя - 0.000\n"
     ]
    }
   ],
   "source": [
    "print('p-value -', '{0:.3f}'.format(st.mannwhitneyu(sampleAFiltered, sampleBFiltered)[1]))\n",
    "print('различия в заказах на пользователя -', '{0:.3f}'.format(sampleBFiltered.mean()/sampleAFiltered.mean()-1))"
   ]
  },
  {
   "cell_type": "markdown",
   "id": "16320913-f506-42b8-ad06-d4d91e4b70ee",
   "metadata": {},
   "source": [
    "**Вывод:\n",
    "по \"очищенным\" данным P-value равен единице, таким образом причин отвергать нулевую гипотезу и считать, что в количестве заказов между группами есть различия, нельзя. Также с учетом ухода аномальных значений среднее количество заказов в группах сравнялось. Можно утвердительно заявить, что в рассматриваемом A/B - тесте аномалии оказывают существенное влияние на результаты.**"
   ]
  },
  {
   "cell_type": "markdown",
   "id": "91d673b3-62be-4dd8-8869-ece344c28eee",
   "metadata": {},
   "source": [
    "## Принятие решений по результатам А/В - тестирования.\n",
    "\n",
    "Сформулируем выводы по результатам анализа А/В - тестирования:\n",
    "- Нет статистически значимого различия по среднему чеку между группами ни по «сырым», ни по \"очищенным\" данным;\n",
    "- Присутствуют статистически значимые различия по среднему количеству заказов между группами по «сырым» данным, но таковых не наблюдается после фильтрации аномалий;\n",
    "- График различия среднего количества заказов между группами сообщает, что результаты группы B лучше группы A и нет значительной тенденции изменению данного результата;"
   ]
  },
  {
   "cell_type": "code",
   "execution_count": 51,
   "id": "932589c7-e548-48f5-9446-e688fed082f7",
   "metadata": {},
   "outputs": [
    {
     "data": {
      "text/html": [
       "<div>\n",
       "<style scoped>\n",
       "    .dataframe tbody tr th:only-of-type {\n",
       "        vertical-align: middle;\n",
       "    }\n",
       "\n",
       "    .dataframe tbody tr th {\n",
       "        vertical-align: top;\n",
       "    }\n",
       "\n",
       "    .dataframe thead th {\n",
       "        text-align: right;\n",
       "    }\n",
       "</style>\n",
       "<table border=\"1\" class=\"dataframe\">\n",
       "  <thead>\n",
       "    <tr style=\"text-align: right;\">\n",
       "      <th></th>\n",
       "      <th>date</th>\n",
       "      <th>group</th>\n",
       "      <th>revenue</th>\n",
       "      <th>transactionId</th>\n",
       "      <th>visitorId</th>\n",
       "      <th>cumsum_revenue</th>\n",
       "      <th>cumsum_orders</th>\n",
       "      <th>cum_avg_receipt</th>\n",
       "      <th>visitors</th>\n",
       "      <th>cumsum_visitors</th>\n",
       "      <th>cum_avg_order</th>\n",
       "    </tr>\n",
       "  </thead>\n",
       "  <tbody>\n",
       "    <tr>\n",
       "      <th>0</th>\n",
       "      <td>2019-08-01</td>\n",
       "      <td>A</td>\n",
       "      <td>54351</td>\n",
       "      <td>16</td>\n",
       "      <td>15</td>\n",
       "      <td>54.351</td>\n",
       "      <td>16</td>\n",
       "      <td>3.396937</td>\n",
       "      <td>719</td>\n",
       "      <td>719</td>\n",
       "      <td>0.022253</td>\n",
       "    </tr>\n",
       "    <tr>\n",
       "      <th>1</th>\n",
       "      <td>2019-08-01</td>\n",
       "      <td>B</td>\n",
       "      <td>59758</td>\n",
       "      <td>17</td>\n",
       "      <td>17</td>\n",
       "      <td>59.758</td>\n",
       "      <td>17</td>\n",
       "      <td>3.515176</td>\n",
       "      <td>713</td>\n",
       "      <td>713</td>\n",
       "      <td>0.023843</td>\n",
       "    </tr>\n",
       "    <tr>\n",
       "      <th>2</th>\n",
       "      <td>2019-08-02</td>\n",
       "      <td>A</td>\n",
       "      <td>89912</td>\n",
       "      <td>18</td>\n",
       "      <td>17</td>\n",
       "      <td>144.263</td>\n",
       "      <td>34</td>\n",
       "      <td>4.243029</td>\n",
       "      <td>619</td>\n",
       "      <td>1338</td>\n",
       "      <td>0.025411</td>\n",
       "    </tr>\n",
       "    <tr>\n",
       "      <th>3</th>\n",
       "      <td>2019-08-02</td>\n",
       "      <td>B</td>\n",
       "      <td>93234</td>\n",
       "      <td>21</td>\n",
       "      <td>20</td>\n",
       "      <td>152.992</td>\n",
       "      <td>38</td>\n",
       "      <td>4.026105</td>\n",
       "      <td>581</td>\n",
       "      <td>1294</td>\n",
       "      <td>0.029366</td>\n",
       "    </tr>\n",
       "    <tr>\n",
       "      <th>4</th>\n",
       "      <td>2019-08-03</td>\n",
       "      <td>A</td>\n",
       "      <td>112473</td>\n",
       "      <td>24</td>\n",
       "      <td>24</td>\n",
       "      <td>256.736</td>\n",
       "      <td>58</td>\n",
       "      <td>4.426483</td>\n",
       "      <td>507</td>\n",
       "      <td>1845</td>\n",
       "      <td>0.031436</td>\n",
       "    </tr>\n",
       "  </tbody>\n",
       "</table>\n",
       "</div>"
      ],
      "text/plain": [
       "        date group  revenue  transactionId  visitorId  cumsum_revenue  \\\n",
       "0 2019-08-01     A    54351             16         15          54.351   \n",
       "1 2019-08-01     B    59758             17         17          59.758   \n",
       "2 2019-08-02     A    89912             18         17         144.263   \n",
       "3 2019-08-02     B    93234             21         20         152.992   \n",
       "4 2019-08-03     A   112473             24         24         256.736   \n",
       "\n",
       "   cumsum_orders  cum_avg_receipt  visitors  cumsum_visitors  cum_avg_order  \n",
       "0             16         3.396937       719              719       0.022253  \n",
       "1             17         3.515176       713              713       0.023843  \n",
       "2             34         4.243029       619             1338       0.025411  \n",
       "3             38         4.026105       581             1294       0.029366  \n",
       "4             58         4.426483       507             1845       0.031436  "
      ]
     },
     "execution_count": 51,
     "metadata": {},
     "output_type": "execute_result"
    }
   ],
   "source": [
    "# подготовка \"очищенных\" данных для построения графиков по аналогии\n",
    "datesGroups_filtered = (\n",
    "                         orders[np.logical_not(orders['visitorId'].isin(abnormalUsers))].\n",
    "                         pivot_table(index=['date', 'group'],\n",
    "                                    values=['revenue', 'transactionId', 'visitorId'],\n",
    "                                    aggfunc={'revenue': 'sum', 'transactionId': 'count', 'visitorId': 'nunique'})\n",
    "                        .reset_index()\n",
    ")\n",
    "datesGroups_filtered['cumsum_revenue'] = datesGroups_filtered.groupby('group')['revenue'].cumsum() / 1000\n",
    "datesGroups_filtered['cumsum_orders'] = datesGroups_filtered.groupby('group')['transactionId'].cumsum()\n",
    "datesGroups_filtered['cum_avg_receipt'] = datesGroups_filtered['cumsum_revenue'] / datesGroups_filtered['cumsum_orders']\n",
    "datesGroups_filtered = datesGroups_filtered.merge(visitors, on=['date', 'group'])\n",
    "datesGroups_filtered['cumsum_visitors'] = datesGroups_filtered.groupby('group')['visitors'].cumsum()\n",
    "datesGroups_filtered['cum_avg_order'] = datesGroups_filtered['cumsum_orders'] / datesGroups_filtered['cumsum_visitors'] \n",
    "datesGroups_filtered.head()"
   ]
  },
  {
   "cell_type": "code",
   "execution_count": 52,
   "id": "063a5cf7-3e02-474a-a82f-6e94ea01eb81",
   "metadata": {},
   "outputs": [
    {
     "data": {
      "text/html": [
       "<div>\n",
       "<style scoped>\n",
       "    .dataframe tbody tr th:only-of-type {\n",
       "        vertical-align: middle;\n",
       "    }\n",
       "\n",
       "    .dataframe tbody tr th {\n",
       "        vertical-align: top;\n",
       "    }\n",
       "\n",
       "    .dataframe thead th {\n",
       "        text-align: right;\n",
       "    }\n",
       "</style>\n",
       "<table border=\"1\" class=\"dataframe\">\n",
       "  <thead>\n",
       "    <tr style=\"text-align: right;\">\n",
       "      <th>group</th>\n",
       "      <th>date</th>\n",
       "      <th>A</th>\n",
       "      <th>B</th>\n",
       "      <th>b_a</th>\n",
       "    </tr>\n",
       "  </thead>\n",
       "  <tbody>\n",
       "    <tr>\n",
       "      <th>0</th>\n",
       "      <td>2019-08-01</td>\n",
       "      <td>0.022253</td>\n",
       "      <td>0.023843</td>\n",
       "      <td>0.071441</td>\n",
       "    </tr>\n",
       "    <tr>\n",
       "      <th>1</th>\n",
       "      <td>2019-08-02</td>\n",
       "      <td>0.025411</td>\n",
       "      <td>0.029366</td>\n",
       "      <td>0.155651</td>\n",
       "    </tr>\n",
       "    <tr>\n",
       "      <th>2</th>\n",
       "      <td>2019-08-03</td>\n",
       "      <td>0.031436</td>\n",
       "      <td>0.028841</td>\n",
       "      <td>-0.082564</td>\n",
       "    </tr>\n",
       "    <tr>\n",
       "      <th>3</th>\n",
       "      <td>2019-08-04</td>\n",
       "      <td>0.026932</td>\n",
       "      <td>0.025262</td>\n",
       "      <td>-0.061998</td>\n",
       "    </tr>\n",
       "    <tr>\n",
       "      <th>4</th>\n",
       "      <td>2019-08-05</td>\n",
       "      <td>0.027426</td>\n",
       "      <td>0.025915</td>\n",
       "      <td>-0.055113</td>\n",
       "    </tr>\n",
       "  </tbody>\n",
       "</table>\n",
       "</div>"
      ],
      "text/plain": [
       "group       date         A         B       b_a\n",
       "0     2019-08-01  0.022253  0.023843  0.071441\n",
       "1     2019-08-02  0.025411  0.029366  0.155651\n",
       "2     2019-08-03  0.031436  0.028841 -0.082564\n",
       "3     2019-08-04  0.026932  0.025262 -0.061998\n",
       "4     2019-08-05  0.027426  0.025915 -0.055113"
      ]
     },
     "execution_count": 52,
     "metadata": {},
     "output_type": "execute_result"
    }
   ],
   "source": [
    "b_a_avg_order_filtered = datesGroups_filtered.pivot_table(index='date', columns='group', values='cum_avg_order').reset_index()\n",
    "b_a_avg_order_filtered['b_a'] = b_a_avg_order_filtered['B'] / b_a_avg_order_filtered['A'] - 1\n",
    "b_a_avg_order_filtered.head()"
   ]
  },
  {
   "cell_type": "code",
   "execution_count": 53,
   "id": "94672431-937d-4e13-96ce-6af7f3649f96",
   "metadata": {},
   "outputs": [
    {
     "data": {
      "image/png": "[encoded data removed]",
      "text/plain": [
       "<Figure size 1400x500 with 1 Axes>"
      ]
     },
     "metadata": {},
     "output_type": "display_data"
    }
   ],
   "source": [
    "b_a_avg_order_filtered.plot(x='date', y='b_a', figsize=(14,5), grid=True)\n",
    "plt.legend('')\n",
    "plt.title('Относительное изменение кумулятивного количества заказов на посетителя группы В к группе А (по \"очищенным\" данным)')\n",
    "plt.xlabel('дата')\n",
    "plt.ylabel('изменение количества заказов, %')\n",
    "plt.axhline(y=0, color='black', linestyle='--')\n",
    "plt.axhline(y=.15, color='gray', linestyle='--');"
   ]
  },
  {
   "cell_type": "markdown",
   "id": "e7ed7c1a-3b28-4ec3-8924-bb45678a282f",
   "metadata": {},
   "source": [
    "График относительного изменения кумулятивного количества заказов на посетителя группы В к группе А по \"очищенным\" данным не отличается от аналогичного графика по \"сырым\" данным. Данный график по смыслу ближе к выводам о наличии статистически значимого различия в количестве заказов между группами.\n",
    "\n",
    "- А вот график различия среднего чека по \"очищенным\" данным поменялся и говорит о том, что результаты групп А и B периодически  отличаются, но несущественно, о чем собственно говоря и говорят нам результаты проверки статистических гипотез - средние чеки групп А и В не отличаются статистически значимо друг от друга."
   ]
  },
  {
   "cell_type": "code",
   "execution_count": 54,
   "id": "3bf2c231-457b-436d-96f0-8401e4bc68e6",
   "metadata": {},
   "outputs": [],
   "source": [
    "b_a_avg_receipt_filtered = datesGroups_filtered.pivot_table(index='date', columns='group', values='cum_avg_receipt').reset_index()\n",
    "b_a_avg_receipt_filtered['b_a'] = b_a_avg_receipt_filtered['B'] / b_a_avg_receipt_filtered['A'] - 1"
   ]
  },
  {
   "cell_type": "code",
   "execution_count": 55,
   "id": "66974473-c92c-4090-a2bb-397b3c8cfe40",
   "metadata": {},
   "outputs": [
    {
     "data": {
      "image/png": "[encoded data removed]",
      "text/plain": [
       "<Figure size 1400x500 with 1 Axes>"
      ]
     },
     "metadata": {},
     "output_type": "display_data"
    }
   ],
   "source": [
    "b_a_avg_receipt_filtered.plot(x='date', y='b_a', figsize=(14,5), grid=True)\n",
    "plt.legend('')\n",
    "plt.title('Относительное изменение кумулятивного среднего чека группы В к группе А (по \"очищенным\" данным)')\n",
    "plt.xlabel('дата')\n",
    "plt.ylabel('изменение среднего чека, %')\n",
    "plt.axhline(y=0, color='black', linestyle='--');"
   ]
  },
  {
   "cell_type": "markdown",
   "id": "08287a8b-dfa0-42f0-b2d0-fae1d04851e1",
   "metadata": {},
   "source": [
    "- Определеющее значение для благополучия бизнеса всё-таки имеет выручка, а не количество заказов. По количеству заказов мы получили противоречивые результаты: по \"очищенным\" данным разницы между группами нет, по \"сырым\" - есть.\n",
    "- Возможно стоит продолжить тест и понаблюдать еще за поведением групп покупателей, но на текущем этапе можно констатировать отсутствие статистически значимых отличий между группами А и В."
   ]
  }
 ],
 "metadata": {
  "ExecuteTimeLog": [
   {
    "duration": 53,
    "start_time": "2023-10-30T14:20:28.206Z"
   },
   {
    "duration": 1577,
    "start_time": "2023-10-30T14:20:36.887Z"
   },
   {
    "duration": 64,
    "start_time": "2023-10-30T14:20:38.466Z"
   },
   {
    "duration": 2,
    "start_time": "2023-10-30T14:20:38.532Z"
   },
   {
    "duration": 2,
    "start_time": "2023-10-30T14:20:50.065Z"
   },
   {
    "duration": 7,
    "start_time": "2023-10-30T14:20:53.317Z"
   },
   {
    "duration": 16,
    "start_time": "2023-10-30T14:20:53.996Z"
   },
   {
    "duration": 5,
    "start_time": "2023-10-30T14:21:30.837Z"
   },
   {
    "duration": 10,
    "start_time": "2023-10-30T14:21:32.146Z"
   },
   {
    "duration": 3,
    "start_time": "2023-10-30T14:21:46.095Z"
   },
   {
    "duration": 5,
    "start_time": "2023-10-30T14:21:47.066Z"
   },
   {
    "duration": 12,
    "start_time": "2023-10-30T14:21:47.432Z"
   },
   {
    "duration": 14,
    "start_time": "2023-10-30T14:21:55.976Z"
   },
   {
    "duration": 60,
    "start_time": "2023-10-30T14:40:42.876Z"
   },
   {
    "duration": 3,
    "start_time": "2023-10-30T14:40:48.737Z"
   },
   {
    "duration": 69,
    "start_time": "2023-10-30T14:40:48.742Z"
   },
   {
    "duration": 20,
    "start_time": "2023-10-30T14:40:48.812Z"
   },
   {
    "duration": 20,
    "start_time": "2023-10-30T14:40:48.834Z"
   },
   {
    "duration": 28,
    "start_time": "2023-10-30T14:40:48.856Z"
   },
   {
    "duration": 55,
    "start_time": "2023-10-30T14:40:48.886Z"
   },
   {
    "duration": 96,
    "start_time": "2023-10-30T14:40:48.942Z"
   },
   {
    "duration": 8,
    "start_time": "2023-10-30T14:40:49.039Z"
   },
   {
    "duration": 22,
    "start_time": "2023-10-30T14:40:49.048Z"
   },
   {
    "duration": 18,
    "start_time": "2023-10-30T14:40:49.072Z"
   },
   {
    "duration": 67,
    "start_time": "2023-10-30T14:40:49.091Z"
   },
   {
    "duration": 8,
    "start_time": "2023-10-30T14:40:49.159Z"
   },
   {
    "duration": 25,
    "start_time": "2023-10-30T14:40:49.168Z"
   },
   {
    "duration": 33,
    "start_time": "2023-10-30T14:40:49.196Z"
   },
   {
    "duration": 22,
    "start_time": "2023-10-30T14:40:49.231Z"
   },
   {
    "duration": 4,
    "start_time": "2023-10-30T14:40:53.318Z"
   },
   {
    "duration": 4,
    "start_time": "2023-10-30T14:41:07.704Z"
   },
   {
    "duration": 3,
    "start_time": "2023-10-30T14:42:34.517Z"
   },
   {
    "duration": 4,
    "start_time": "2023-10-30T14:43:04.322Z"
   },
   {
    "duration": 4,
    "start_time": "2023-10-30T14:43:11.534Z"
   },
   {
    "duration": 4,
    "start_time": "2023-10-30T14:43:22.996Z"
   },
   {
    "duration": 6,
    "start_time": "2023-10-30T14:45:53.155Z"
   },
   {
    "duration": 21,
    "start_time": "2023-10-30T14:50:08.956Z"
   },
   {
    "duration": 38,
    "start_time": "2023-10-30T14:50:39.957Z"
   },
   {
    "duration": 71,
    "start_time": "2023-10-30T14:51:21.216Z"
   },
   {
    "duration": 46,
    "start_time": "2023-10-30T14:51:33.658Z"
   },
   {
    "duration": 47,
    "start_time": "2023-10-30T14:51:53.635Z"
   },
   {
    "duration": 46,
    "start_time": "2023-10-30T14:52:02.417Z"
   },
   {
    "duration": 40,
    "start_time": "2023-10-30T14:52:41.156Z"
   },
   {
    "duration": 40,
    "start_time": "2023-10-30T14:53:23.756Z"
   },
   {
    "duration": 40,
    "start_time": "2023-10-30T14:53:52.248Z"
   },
   {
    "duration": 90,
    "start_time": "2023-10-30T14:54:08.540Z"
   },
   {
    "duration": 41,
    "start_time": "2023-10-30T14:54:13.758Z"
   },
   {
    "duration": 52,
    "start_time": "2023-10-30T14:54:20.907Z"
   },
   {
    "duration": 38,
    "start_time": "2023-10-30T14:54:36.437Z"
   },
   {
    "duration": 42,
    "start_time": "2023-10-30T14:55:51.123Z"
   },
   {
    "duration": 37,
    "start_time": "2023-10-30T14:57:54.031Z"
   },
   {
    "duration": 48,
    "start_time": "2023-10-30T14:58:27.226Z"
   },
   {
    "duration": 43,
    "start_time": "2023-10-30T14:58:38.787Z"
   },
   {
    "duration": 21,
    "start_time": "2023-10-30T14:59:34.440Z"
   },
   {
    "duration": 26,
    "start_time": "2023-10-30T14:59:43.528Z"
   },
   {
    "duration": 38,
    "start_time": "2023-10-30T15:02:05.603Z"
   },
   {
    "duration": 337,
    "start_time": "2023-10-30T15:04:01.201Z"
   },
   {
    "duration": 35,
    "start_time": "2023-10-30T15:04:11.386Z"
   },
   {
    "duration": 26,
    "start_time": "2023-10-30T15:08:16.718Z"
   },
   {
    "duration": 37,
    "start_time": "2023-10-30T15:09:36.093Z"
   },
   {
    "duration": 20,
    "start_time": "2023-10-30T15:10:14.292Z"
   },
   {
    "duration": 16,
    "start_time": "2023-10-30T15:10:35.464Z"
   },
   {
    "duration": 17,
    "start_time": "2023-10-30T15:11:33.280Z"
   },
   {
    "duration": 3,
    "start_time": "2023-10-30T15:15:26.731Z"
   },
   {
    "duration": 27,
    "start_time": "2023-10-30T15:15:48.279Z"
   },
   {
    "duration": 25,
    "start_time": "2023-10-30T15:16:26.676Z"
   },
   {
    "duration": 15,
    "start_time": "2023-10-30T15:16:37.445Z"
   },
   {
    "duration": 19,
    "start_time": "2023-10-30T15:20:06.729Z"
   },
   {
    "duration": 22,
    "start_time": "2023-10-30T15:22:32.072Z"
   },
   {
    "duration": 25,
    "start_time": "2023-10-30T15:22:51.534Z"
   },
   {
    "duration": 23,
    "start_time": "2023-10-30T15:23:08.911Z"
   },
   {
    "duration": 21,
    "start_time": "2023-10-30T15:23:33.557Z"
   },
   {
    "duration": 2034,
    "start_time": "2023-10-30T15:23:47.628Z"
   },
   {
    "duration": 22,
    "start_time": "2023-10-30T15:28:15.279Z"
   },
   {
    "duration": 21,
    "start_time": "2023-10-30T15:28:34.480Z"
   },
   {
    "duration": 87,
    "start_time": "2023-10-30T15:29:21.778Z"
   },
   {
    "duration": 110,
    "start_time": "2023-10-30T15:29:30.777Z"
   },
   {
    "duration": 5,
    "start_time": "2023-10-30T15:32:33.389Z"
   },
   {
    "duration": 23,
    "start_time": "2023-10-30T15:32:39.590Z"
   },
   {
    "duration": 23,
    "start_time": "2023-10-30T15:33:09.561Z"
   },
   {
    "duration": 22,
    "start_time": "2023-10-30T15:33:53.160Z"
   },
   {
    "duration": 22,
    "start_time": "2023-10-30T15:34:41.802Z"
   },
   {
    "duration": 3,
    "start_time": "2023-10-30T15:34:50.302Z"
   },
   {
    "duration": 49,
    "start_time": "2023-10-30T15:34:50.306Z"
   },
   {
    "duration": 18,
    "start_time": "2023-10-30T15:34:50.357Z"
   },
   {
    "duration": 17,
    "start_time": "2023-10-30T15:34:50.376Z"
   },
   {
    "duration": 15,
    "start_time": "2023-10-30T15:34:50.395Z"
   },
   {
    "duration": 56,
    "start_time": "2023-10-30T15:34:50.412Z"
   },
   {
    "duration": 62,
    "start_time": "2023-10-30T15:34:50.469Z"
   },
   {
    "duration": 7,
    "start_time": "2023-10-30T15:34:50.533Z"
   },
   {
    "duration": 21,
    "start_time": "2023-10-30T15:34:50.541Z"
   },
   {
    "duration": 30,
    "start_time": "2023-10-30T15:34:50.564Z"
   },
   {
    "duration": 32,
    "start_time": "2023-10-30T15:34:50.597Z"
   },
   {
    "duration": 18,
    "start_time": "2023-10-30T15:34:50.631Z"
   },
   {
    "duration": 28,
    "start_time": "2023-10-30T15:34:50.650Z"
   },
   {
    "duration": 35,
    "start_time": "2023-10-30T15:34:50.680Z"
   },
   {
    "duration": 25,
    "start_time": "2023-10-30T15:34:50.717Z"
   },
   {
    "duration": 27,
    "start_time": "2023-10-30T15:34:50.743Z"
   },
   {
    "duration": 27,
    "start_time": "2023-10-30T15:34:50.772Z"
   },
   {
    "duration": 40,
    "start_time": "2023-10-30T15:34:50.800Z"
   },
   {
    "duration": 32,
    "start_time": "2023-10-30T15:34:50.841Z"
   },
   {
    "duration": 29,
    "start_time": "2023-10-30T15:34:50.874Z"
   },
   {
    "duration": 64,
    "start_time": "2023-10-30T15:34:50.905Z"
   },
   {
    "duration": 36,
    "start_time": "2023-10-30T15:34:50.970Z"
   },
   {
    "duration": 4,
    "start_time": "2023-10-30T15:37:32.579Z"
   },
   {
    "duration": 19,
    "start_time": "2023-10-30T15:39:51.077Z"
   },
   {
    "duration": 14,
    "start_time": "2023-10-30T15:39:54.928Z"
   },
   {
    "duration": 234,
    "start_time": "2023-10-30T15:39:58.035Z"
   },
   {
    "duration": 15,
    "start_time": "2023-10-30T15:40:55.593Z"
   },
   {
    "duration": 243,
    "start_time": "2023-10-30T15:40:57.351Z"
   },
   {
    "duration": 19,
    "start_time": "2023-10-30T15:41:27.168Z"
   },
   {
    "duration": 352,
    "start_time": "2023-10-30T15:41:29.090Z"
   },
   {
    "duration": 347,
    "start_time": "2023-10-30T15:41:59.950Z"
   },
   {
    "duration": 448,
    "start_time": "2023-10-30T15:42:10.972Z"
   },
   {
    "duration": 339,
    "start_time": "2023-10-30T15:42:57.352Z"
   },
   {
    "duration": 304,
    "start_time": "2023-10-30T15:43:24.924Z"
   },
   {
    "duration": 142,
    "start_time": "2023-10-30T15:45:04.280Z"
   },
   {
    "duration": 4,
    "start_time": "2023-10-30T15:45:08.802Z"
   },
   {
    "duration": 4,
    "start_time": "2023-10-30T15:46:00.670Z"
   },
   {
    "duration": 15,
    "start_time": "2023-10-30T15:46:08.190Z"
   },
   {
    "duration": 15,
    "start_time": "2023-10-30T15:46:09.879Z"
   },
   {
    "duration": 256,
    "start_time": "2023-10-30T15:46:11.360Z"
   },
   {
    "duration": 22,
    "start_time": "2023-10-30T15:46:40.067Z"
   },
   {
    "duration": 302,
    "start_time": "2023-10-30T15:46:41.034Z"
   },
   {
    "duration": 326,
    "start_time": "2023-10-30T15:47:35.622Z"
   },
   {
    "duration": 8,
    "start_time": "2023-10-30T15:47:49.469Z"
   },
   {
    "duration": 154,
    "start_time": "2023-10-30T15:48:07.530Z"
   },
   {
    "duration": 9,
    "start_time": "2023-10-30T15:49:18.189Z"
   },
   {
    "duration": 149,
    "start_time": "2023-10-30T15:50:48.610Z"
   },
   {
    "duration": 3,
    "start_time": "2023-10-30T15:50:51.652Z"
   },
   {
    "duration": 3,
    "start_time": "2023-10-30T15:52:21.827Z"
   },
   {
    "duration": 3,
    "start_time": "2023-10-30T15:52:26.938Z"
   },
   {
    "duration": 4,
    "start_time": "2023-10-30T15:52:30.569Z"
   },
   {
    "duration": 123,
    "start_time": "2023-10-30T15:52:33.993Z"
   },
   {
    "duration": 7,
    "start_time": "2023-10-30T15:52:36.902Z"
   },
   {
    "duration": 25,
    "start_time": "2023-10-30T15:52:38.397Z"
   },
   {
    "duration": 24,
    "start_time": "2023-10-30T15:52:56.139Z"
   },
   {
    "duration": 25,
    "start_time": "2023-10-30T15:53:00.869Z"
   },
   {
    "duration": 23,
    "start_time": "2023-10-30T15:53:39.468Z"
   },
   {
    "duration": 10,
    "start_time": "2023-10-30T15:54:14.541Z"
   },
   {
    "duration": 10,
    "start_time": "2023-10-30T15:54:58.489Z"
   },
   {
    "duration": 11,
    "start_time": "2023-10-30T15:55:52.959Z"
   },
   {
    "duration": 8,
    "start_time": "2023-10-30T15:56:25.678Z"
   },
   {
    "duration": 13,
    "start_time": "2023-10-30T15:56:36.503Z"
   },
   {
    "duration": 14,
    "start_time": "2023-10-30T15:57:02.683Z"
   },
   {
    "duration": 13,
    "start_time": "2023-10-30T15:57:36.388Z"
   },
   {
    "duration": 8,
    "start_time": "2023-10-30T15:58:39.215Z"
   },
   {
    "duration": 24,
    "start_time": "2023-10-30T15:59:26.550Z"
   },
   {
    "duration": 133,
    "start_time": "2023-10-30T16:00:09.120Z"
   },
   {
    "duration": 7,
    "start_time": "2023-10-30T16:00:14.110Z"
   },
   {
    "duration": 8,
    "start_time": "2023-10-30T16:00:26.941Z"
   },
   {
    "duration": 8,
    "start_time": "2023-10-30T16:00:27.390Z"
   },
   {
    "duration": 3,
    "start_time": "2023-10-30T16:00:44.592Z"
   },
   {
    "duration": 57,
    "start_time": "2023-10-30T16:00:44.597Z"
   },
   {
    "duration": 3,
    "start_time": "2023-10-30T16:00:44.656Z"
   },
   {
    "duration": 17,
    "start_time": "2023-10-30T16:00:44.661Z"
   },
   {
    "duration": 26,
    "start_time": "2023-10-30T16:00:44.679Z"
   },
   {
    "duration": 11,
    "start_time": "2023-10-30T16:00:44.706Z"
   },
   {
    "duration": 47,
    "start_time": "2023-10-30T16:00:44.718Z"
   },
   {
    "duration": 9,
    "start_time": "2023-10-30T16:00:44.767Z"
   },
   {
    "duration": 39,
    "start_time": "2023-10-30T16:00:44.780Z"
   },
   {
    "duration": 47,
    "start_time": "2023-10-30T16:00:44.821Z"
   },
   {
    "duration": 37,
    "start_time": "2023-10-30T16:00:44.870Z"
   },
   {
    "duration": 21,
    "start_time": "2023-10-30T16:00:44.909Z"
   },
   {
    "duration": 30,
    "start_time": "2023-10-30T16:00:44.932Z"
   },
   {
    "duration": 27,
    "start_time": "2023-10-30T16:00:44.963Z"
   },
   {
    "duration": 35,
    "start_time": "2023-10-30T16:00:44.992Z"
   },
   {
    "duration": 36,
    "start_time": "2023-10-30T16:00:45.030Z"
   },
   {
    "duration": 46,
    "start_time": "2023-10-30T16:00:45.068Z"
   },
   {
    "duration": 31,
    "start_time": "2023-10-30T16:00:45.115Z"
   },
   {
    "duration": 8,
    "start_time": "2023-10-30T16:00:45.147Z"
   },
   {
    "duration": 6,
    "start_time": "2023-10-30T16:00:45.157Z"
   },
   {
    "duration": 18,
    "start_time": "2023-10-30T16:00:45.165Z"
   },
   {
    "duration": 31,
    "start_time": "2023-10-30T16:00:45.184Z"
   },
   {
    "duration": 19,
    "start_time": "2023-10-30T16:00:45.216Z"
   },
   {
    "duration": 14,
    "start_time": "2023-10-30T16:00:45.240Z"
   },
   {
    "duration": 286,
    "start_time": "2023-10-30T16:00:45.256Z"
   },
   {
    "duration": 13,
    "start_time": "2023-10-30T16:00:45.544Z"
   },
   {
    "duration": 276,
    "start_time": "2023-10-30T16:00:45.559Z"
   },
   {
    "duration": 20,
    "start_time": "2023-10-30T16:00:45.837Z"
   },
   {
    "duration": 485,
    "start_time": "2023-10-30T16:00:45.859Z"
   },
   {
    "duration": 162,
    "start_time": "2023-10-30T16:00:46.345Z"
   },
   {
    "duration": 5,
    "start_time": "2023-10-30T16:00:46.508Z"
   },
   {
    "duration": 13,
    "start_time": "2023-10-30T16:00:46.514Z"
   },
   {
    "duration": 31,
    "start_time": "2023-10-30T16:00:46.529Z"
   },
   {
    "duration": 37,
    "start_time": "2023-10-30T16:00:46.561Z"
   },
   {
    "duration": 268,
    "start_time": "2023-10-30T16:00:46.599Z"
   },
   {
    "duration": 20,
    "start_time": "2023-10-30T16:00:46.869Z"
   },
   {
    "duration": 337,
    "start_time": "2023-10-30T16:00:46.891Z"
   },
   {
    "duration": 10,
    "start_time": "2023-10-30T16:00:47.231Z"
   },
   {
    "duration": 183,
    "start_time": "2023-10-30T16:00:47.243Z"
   },
   {
    "duration": 4,
    "start_time": "2023-10-30T16:00:47.428Z"
   },
   {
    "duration": 40,
    "start_time": "2023-10-30T16:00:47.433Z"
   },
   {
    "duration": 32,
    "start_time": "2023-10-30T16:00:47.474Z"
   },
   {
    "duration": 129,
    "start_time": "2023-10-30T16:00:47.507Z"
   },
   {
    "duration": 6,
    "start_time": "2023-10-30T16:00:47.638Z"
   },
   {
    "duration": 47,
    "start_time": "2023-10-30T16:00:47.645Z"
   },
   {
    "duration": 52,
    "start_time": "2023-10-30T16:00:47.694Z"
   },
   {
    "duration": 12,
    "start_time": "2023-10-30T16:00:47.748Z"
   },
   {
    "duration": 27,
    "start_time": "2023-10-30T16:00:47.762Z"
   },
   {
    "duration": 23,
    "start_time": "2023-10-30T16:00:47.791Z"
   },
   {
    "duration": 25,
    "start_time": "2023-10-30T16:00:47.815Z"
   },
   {
    "duration": 7,
    "start_time": "2023-10-30T16:00:55.035Z"
   },
   {
    "duration": 1265,
    "start_time": "2023-10-30T16:04:02.379Z"
   },
   {
    "duration": 30,
    "start_time": "2023-10-30T16:04:03.646Z"
   },
   {
    "duration": 2,
    "start_time": "2023-10-30T16:04:03.679Z"
   },
   {
    "duration": 13,
    "start_time": "2023-10-30T16:04:03.683Z"
   },
   {
    "duration": 32,
    "start_time": "2023-10-30T16:04:03.699Z"
   },
   {
    "duration": 27,
    "start_time": "2023-10-30T16:04:03.733Z"
   },
   {
    "duration": 71,
    "start_time": "2023-10-30T16:04:03.762Z"
   },
   {
    "duration": 8,
    "start_time": "2023-10-30T16:04:03.835Z"
   },
   {
    "duration": 25,
    "start_time": "2023-10-30T16:04:03.844Z"
   },
   {
    "duration": 35,
    "start_time": "2023-10-30T16:04:03.870Z"
   },
   {
    "duration": 27,
    "start_time": "2023-10-30T16:04:03.907Z"
   },
   {
    "duration": 7,
    "start_time": "2023-10-30T16:04:03.936Z"
   },
   {
    "duration": 18,
    "start_time": "2023-10-30T16:04:03.947Z"
   },
   {
    "duration": 34,
    "start_time": "2023-10-30T16:04:03.968Z"
   },
   {
    "duration": 81,
    "start_time": "2023-10-30T16:04:04.003Z"
   },
   {
    "duration": 31,
    "start_time": "2023-10-30T16:04:04.086Z"
   },
   {
    "duration": 17,
    "start_time": "2023-10-30T16:04:04.119Z"
   },
   {
    "duration": 6,
    "start_time": "2023-10-30T16:04:04.138Z"
   },
   {
    "duration": 20,
    "start_time": "2023-10-30T16:04:04.146Z"
   },
   {
    "duration": 13,
    "start_time": "2023-10-30T16:04:04.168Z"
   },
   {
    "duration": 28,
    "start_time": "2023-10-30T16:04:04.183Z"
   },
   {
    "duration": 30,
    "start_time": "2023-10-30T16:04:04.213Z"
   },
   {
    "duration": 18,
    "start_time": "2023-10-30T16:04:04.244Z"
   },
   {
    "duration": 44,
    "start_time": "2023-10-30T16:04:04.263Z"
   },
   {
    "duration": 321,
    "start_time": "2023-10-30T16:04:04.309Z"
   },
   {
    "duration": 14,
    "start_time": "2023-10-30T16:04:04.631Z"
   },
   {
    "duration": 267,
    "start_time": "2023-10-30T16:04:04.646Z"
   },
   {
    "duration": 21,
    "start_time": "2023-10-30T16:04:04.915Z"
   },
   {
    "duration": 403,
    "start_time": "2023-10-30T16:04:04.938Z"
   },
   {
    "duration": 158,
    "start_time": "2023-10-30T16:04:05.343Z"
   },
   {
    "duration": 6,
    "start_time": "2023-10-30T16:04:05.503Z"
   },
   {
    "duration": 15,
    "start_time": "2023-10-30T16:04:05.510Z"
   },
   {
    "duration": 39,
    "start_time": "2023-10-30T16:04:05.527Z"
   },
   {
    "duration": 44,
    "start_time": "2023-10-30T16:04:05.567Z"
   },
   {
    "duration": 278,
    "start_time": "2023-10-30T16:04:05.614Z"
   },
   {
    "duration": 28,
    "start_time": "2023-10-30T16:04:05.894Z"
   },
   {
    "duration": 402,
    "start_time": "2023-10-30T16:04:05.924Z"
   },
   {
    "duration": 9,
    "start_time": "2023-10-30T16:04:06.327Z"
   },
   {
    "duration": 241,
    "start_time": "2023-10-30T16:04:06.337Z"
   },
   {
    "duration": 4,
    "start_time": "2023-10-30T16:04:06.579Z"
   },
   {
    "duration": 32,
    "start_time": "2023-10-30T16:04:06.587Z"
   },
   {
    "duration": 6,
    "start_time": "2023-10-30T16:04:06.621Z"
   },
   {
    "duration": 146,
    "start_time": "2023-10-30T16:04:06.628Z"
   },
   {
    "duration": 6,
    "start_time": "2023-10-30T16:04:06.776Z"
   },
   {
    "duration": 58,
    "start_time": "2023-10-30T16:04:06.783Z"
   },
   {
    "duration": 9,
    "start_time": "2023-10-30T16:04:06.843Z"
   },
   {
    "duration": 30,
    "start_time": "2023-10-30T16:04:06.853Z"
   },
   {
    "duration": 31,
    "start_time": "2023-10-30T16:04:06.885Z"
   },
   {
    "duration": 36,
    "start_time": "2023-10-30T16:04:06.918Z"
   },
   {
    "duration": 57,
    "start_time": "2023-10-30T16:04:06.956Z"
   },
   {
    "duration": 65,
    "start_time": "2023-10-30T16:04:07.015Z"
   },
   {
    "duration": 21,
    "start_time": "2023-10-30T16:04:07.082Z"
   },
   {
    "duration": 383,
    "start_time": "2023-10-30T16:04:07.105Z"
   },
   {
    "duration": 22,
    "start_time": "2023-10-30T16:04:07.490Z"
   },
   {
    "duration": 340,
    "start_time": "2023-10-30T16:04:07.514Z"
   },
   {
    "duration": 7,
    "start_time": "2023-10-30T16:06:14.722Z"
   },
   {
    "duration": 7,
    "start_time": "2023-10-30T16:07:19.008Z"
   },
   {
    "duration": 6,
    "start_time": "2023-10-30T16:07:22.373Z"
   },
   {
    "duration": 8,
    "start_time": "2023-10-30T16:13:01.642Z"
   },
   {
    "duration": 10,
    "start_time": "2023-10-30T16:13:02.242Z"
   },
   {
    "duration": 7,
    "start_time": "2023-10-30T16:17:27.300Z"
   },
   {
    "duration": 7,
    "start_time": "2023-10-30T16:17:53.230Z"
   },
   {
    "duration": 366,
    "start_time": "2023-10-30T16:26:38.257Z"
   },
   {
    "duration": 16,
    "start_time": "2023-10-30T16:26:43.213Z"
   },
   {
    "duration": 290,
    "start_time": "2023-10-30T16:26:43.819Z"
   },
   {
    "duration": 300,
    "start_time": "2023-10-30T16:27:18.417Z"
   },
   {
    "duration": 1286,
    "start_time": "2023-10-31T14:14:52.627Z"
   },
   {
    "duration": 62,
    "start_time": "2023-10-31T14:14:53.915Z"
   },
   {
    "duration": 2,
    "start_time": "2023-10-31T14:14:53.979Z"
   },
   {
    "duration": 25,
    "start_time": "2023-10-31T14:14:53.982Z"
   },
   {
    "duration": 27,
    "start_time": "2023-10-31T14:14:54.009Z"
   },
   {
    "duration": 9,
    "start_time": "2023-10-31T14:14:54.037Z"
   },
   {
    "duration": 86,
    "start_time": "2023-10-31T14:14:54.048Z"
   },
   {
    "duration": 7,
    "start_time": "2023-10-31T14:14:54.135Z"
   },
   {
    "duration": 19,
    "start_time": "2023-10-31T14:14:54.143Z"
   },
   {
    "duration": 11,
    "start_time": "2023-10-31T14:14:54.164Z"
   },
   {
    "duration": 66,
    "start_time": "2023-10-31T14:14:54.176Z"
   },
   {
    "duration": 7,
    "start_time": "2023-10-31T14:14:54.243Z"
   },
   {
    "duration": 21,
    "start_time": "2023-10-31T14:14:54.252Z"
   },
   {
    "duration": 28,
    "start_time": "2023-10-31T14:14:54.276Z"
   },
   {
    "duration": 7,
    "start_time": "2023-10-31T14:14:54.306Z"
   },
   {
    "duration": 18,
    "start_time": "2023-10-31T14:14:54.314Z"
   },
   {
    "duration": 17,
    "start_time": "2023-10-31T14:14:54.333Z"
   },
   {
    "duration": 11,
    "start_time": "2023-10-31T14:14:54.352Z"
   },
   {
    "duration": 23,
    "start_time": "2023-10-31T14:14:54.365Z"
   },
   {
    "duration": 10,
    "start_time": "2023-10-31T14:14:54.390Z"
   },
   {
    "duration": 24,
    "start_time": "2023-10-31T14:14:54.401Z"
   },
   {
    "duration": 21,
    "start_time": "2023-10-31T14:14:54.426Z"
   },
   {
    "duration": 15,
    "start_time": "2023-10-31T14:14:54.448Z"
   },
   {
    "duration": 10,
    "start_time": "2023-10-31T14:14:54.465Z"
   },
   {
    "duration": 314,
    "start_time": "2023-10-31T14:14:54.477Z"
   },
   {
    "duration": 12,
    "start_time": "2023-10-31T14:14:54.792Z"
   },
   {
    "duration": 237,
    "start_time": "2023-10-31T14:14:54.805Z"
   },
   {
    "duration": 18,
    "start_time": "2023-10-31T14:14:55.043Z"
   },
   {
    "duration": 414,
    "start_time": "2023-10-31T14:14:55.062Z"
   },
   {
    "duration": 152,
    "start_time": "2023-10-31T14:14:55.478Z"
   },
   {
    "duration": 9,
    "start_time": "2023-10-31T14:14:55.632Z"
   },
   {
    "duration": 33,
    "start_time": "2023-10-31T14:14:55.643Z"
   },
   {
    "duration": 39,
    "start_time": "2023-10-31T14:14:55.677Z"
   },
   {
    "duration": 37,
    "start_time": "2023-10-31T14:14:55.717Z"
   },
   {
    "duration": 229,
    "start_time": "2023-10-31T14:14:55.756Z"
   },
   {
    "duration": 19,
    "start_time": "2023-10-31T14:14:55.987Z"
   },
   {
    "duration": 341,
    "start_time": "2023-10-31T14:14:56.007Z"
   },
   {
    "duration": 11,
    "start_time": "2023-10-31T14:14:56.350Z"
   },
   {
    "duration": 205,
    "start_time": "2023-10-31T14:14:56.362Z"
   },
   {
    "duration": 4,
    "start_time": "2023-10-31T14:14:56.568Z"
   },
   {
    "duration": 7,
    "start_time": "2023-10-31T14:14:56.575Z"
   },
   {
    "duration": 17,
    "start_time": "2023-10-31T14:14:56.583Z"
   },
   {
    "duration": 151,
    "start_time": "2023-10-31T14:14:56.601Z"
   },
   {
    "duration": 6,
    "start_time": "2023-10-31T14:14:56.753Z"
   },
   {
    "duration": 25,
    "start_time": "2023-10-31T14:14:56.760Z"
   },
   {
    "duration": 45,
    "start_time": "2023-10-31T14:14:56.786Z"
   },
   {
    "duration": 20,
    "start_time": "2023-10-31T14:14:56.833Z"
   },
   {
    "duration": 12,
    "start_time": "2023-10-31T14:14:56.854Z"
   },
   {
    "duration": 11,
    "start_time": "2023-10-31T14:14:56.868Z"
   },
   {
    "duration": 15,
    "start_time": "2023-10-31T14:14:56.881Z"
   },
   {
    "duration": 39,
    "start_time": "2023-10-31T14:14:56.899Z"
   },
   {
    "duration": 19,
    "start_time": "2023-10-31T14:14:56.939Z"
   },
   {
    "duration": 312,
    "start_time": "2023-10-31T14:14:56.960Z"
   },
   {
    "duration": 12,
    "start_time": "2023-10-31T14:14:57.274Z"
   },
   {
    "duration": 344,
    "start_time": "2023-10-31T14:14:57.287Z"
   }
  ],
  "kernelspec": {
   "display_name": "Python 3 (ipykernel)",
   "language": "python",
   "name": "python3"
  },
  "language_info": {
   "codemirror_mode": {
    "name": "ipython",
    "version": 3
   },
   "file_extension": ".py",
   "mimetype": "text/x-python",
   "name": "python",
   "nbconvert_exporter": "python",
   "pygments_lexer": "ipython3",
   "version": "3.9.16"
  },
  "toc": {
   "base_numbering": 1,
   "nav_menu": {},
   "number_sections": true,
   "sideBar": true,
   "skip_h1_title": true,
   "title_cell": "Table of Contents",
   "title_sidebar": "Contents",
   "toc_cell": false,
   "toc_position": {},
   "toc_section_display": true,
   "toc_window_display": false
  }
 },
 "nbformat": 4,
 "nbformat_minor": 5
}
